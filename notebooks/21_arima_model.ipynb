{
 "cells": [
  {
   "cell_type": "code",
   "execution_count": 1,
   "metadata": {},
   "outputs": [],
   "source": [
    "%load_ext autoreload\n",
    "%autoreload 2"
   ]
  },
  {
   "cell_type": "code",
   "execution_count": 2,
   "metadata": {},
   "outputs": [],
   "source": [
    "import sys\n",
    "import os\n",
    "\n",
    "# Add the parent directory to the Python path\n",
    "sys.path.append(os.path.abspath(os.path.join(os.getcwd(), \"..\")))\n",
    "import src.config as config"
   ]
  },
  {
   "cell_type": "code",
   "execution_count": 3,
   "metadata": {},
   "outputs": [
    {
     "name": "stderr",
     "output_type": "stream",
     "text": [
      "c:\\Users\\nolan\\anaconda3\\envs\\sp25_taxi\\Lib\\site-packages\\tqdm\\auto.py:21: TqdmWarning: IProgress not found. Please update jupyter and ipywidgets. See https://ipywidgets.readthedocs.io/en/stable/user_install.html\n",
      "  from .autonotebook import tqdm as notebook_tqdm\n"
     ]
    },
    {
     "name": "stdout",
     "output_type": "stream",
     "text": [
      "2025-03-01 19:23:49,194 INFO: Initializing external client\n",
      "2025-03-01 19:23:49,197 INFO: Base URL: https://c.app.hopsworks.ai:443\n",
      "2025-03-01 19:23:50,814 INFO: Python Engine initialized.\n",
      "\n",
      "Logged in to project, explore it here https://c.app.hopsworks.ai:443/p/1212635\n",
      "Error creating feature view: Metadata operation error: (url: https://c.app.hopsworks.ai/hopsworks-api/api/project/1212635/featurestores/1200268/featureview). Server response: \n",
      "HTTP code: 400, HTTP reason: Bad Request, body: b'{\"errorCode\":270179,\"usrMsg\":\"Feature view: time_series_hourly_feature_view, version: 1\",\"errorMsg\":\"The provided feature view name and version already exists\"}', error code: 270179, error msg: The provided feature view name and version already exists, user msg: Feature view: time_series_hourly_feature_view, version: 1\n",
      "Feature view 'time_series_hourly_feature_view' (version 1) retrieved successfully.\n",
      "Finished: Reading data from Hopsworks, using Hopsworks Feature Query Service (22.48s) \n"
     ]
    },
    {
     "name": "stderr",
     "output_type": "stream",
     "text": [
      "VersionWarning: Incremented version to `9`.\n"
     ]
    }
   ],
   "source": [
    "import hopsworks\n",
    "\n",
    "project = hopsworks.login(\n",
    "    project=config.HOPSWORKS_PROJECT_NAME, api_key_value=config.HOPSWORKS_API_KEY\n",
    ")\n",
    "\n",
    "feature_store = project.get_feature_store()\n",
    "feature_group = feature_store.get_feature_group(\n",
    "    name=config.FEATURE_GROUP_NAME,\n",
    "    version=config.FEATURE_GROUP_VERSION\n",
    ")\n",
    "\n",
    "# Create a feature view if it doesn't already exist\n",
    "try:\n",
    "    feature_store.create_feature_view(\n",
    "        name=config.FEATURE_VIEW_NAME,\n",
    "        version=config.FEATURE_VIEW_VERSION,\n",
    "        query=feature_group.select_all(),\n",
    "    )\n",
    "    print(f\"Feature view '{config.FEATURE_VIEW_NAME}' (version {config.FEATURE_VIEW_VERSION}) created successfully.\")\n",
    "except Exception as e:\n",
    "    print(f\"Error creating feature view: {e}\")\n",
    "\n",
    "# Retrieve the feature view\n",
    "try:\n",
    "    feature_view = feature_store.get_feature_view(\n",
    "        name=config.FEATURE_VIEW_NAME,\n",
    "        version=config.FEATURE_VIEW_VERSION,\n",
    "    )\n",
    "    print(f\"Feature view '{config.FEATURE_VIEW_NAME}' (version {config.FEATURE_VIEW_VERSION}) retrieved successfully.\")\n",
    "except Exception as e:\n",
    "    print(f\"Error retrieving feature view: {e}\")\n",
    "\n",
    "ts_data, _ = feature_view.training_data(\n",
    "    description=\"Time-series hourly taxi rides\"\n",
    ")\n",
    "\n",
    "ts_data = ts_data.sort_values([\"pickup_location_id\", \"pickup_hour\"]).reset_index(drop=True)"
   ]
  },
  {
   "cell_type": "code",
   "execution_count": 4,
   "metadata": {},
   "outputs": [
    {
     "data": {
      "text/html": [
       "<div>\n",
       "<style scoped>\n",
       "    .dataframe tbody tr th:only-of-type {\n",
       "        vertical-align: middle;\n",
       "    }\n",
       "\n",
       "    .dataframe tbody tr th {\n",
       "        vertical-align: top;\n",
       "    }\n",
       "\n",
       "    .dataframe thead th {\n",
       "        text-align: right;\n",
       "    }\n",
       "</style>\n",
       "<table border=\"1\" class=\"dataframe\">\n",
       "  <thead>\n",
       "    <tr style=\"text-align: right;\">\n",
       "      <th></th>\n",
       "      <th>pickup_hour</th>\n",
       "      <th>pickup_location_id</th>\n",
       "      <th>rides</th>\n",
       "    </tr>\n",
       "  </thead>\n",
       "  <tbody>\n",
       "    <tr>\n",
       "      <th>0</th>\n",
       "      <td>2023-01-01 00:00:00+00:00</td>\n",
       "      <td>2</td>\n",
       "      <td>0</td>\n",
       "    </tr>\n",
       "    <tr>\n",
       "      <th>1</th>\n",
       "      <td>2023-01-01 01:00:00+00:00</td>\n",
       "      <td>2</td>\n",
       "      <td>0</td>\n",
       "    </tr>\n",
       "    <tr>\n",
       "      <th>2</th>\n",
       "      <td>2023-01-01 02:00:00+00:00</td>\n",
       "      <td>2</td>\n",
       "      <td>0</td>\n",
       "    </tr>\n",
       "    <tr>\n",
       "      <th>3</th>\n",
       "      <td>2023-01-01 03:00:00+00:00</td>\n",
       "      <td>2</td>\n",
       "      <td>0</td>\n",
       "    </tr>\n",
       "    <tr>\n",
       "      <th>4</th>\n",
       "      <td>2023-01-01 04:00:00+00:00</td>\n",
       "      <td>2</td>\n",
       "      <td>0</td>\n",
       "    </tr>\n",
       "    <tr>\n",
       "      <th>...</th>\n",
       "      <td>...</td>\n",
       "      <td>...</td>\n",
       "      <td>...</td>\n",
       "    </tr>\n",
       "    <tr>\n",
       "      <th>4926347</th>\n",
       "      <td>2025-03-01 19:00:00+00:00</td>\n",
       "      <td>263</td>\n",
       "      <td>170</td>\n",
       "    </tr>\n",
       "    <tr>\n",
       "      <th>4926348</th>\n",
       "      <td>2025-03-01 20:00:00+00:00</td>\n",
       "      <td>263</td>\n",
       "      <td>140</td>\n",
       "    </tr>\n",
       "    <tr>\n",
       "      <th>4926349</th>\n",
       "      <td>2025-03-01 21:00:00+00:00</td>\n",
       "      <td>263</td>\n",
       "      <td>154</td>\n",
       "    </tr>\n",
       "    <tr>\n",
       "      <th>4926350</th>\n",
       "      <td>2025-03-01 22:00:00+00:00</td>\n",
       "      <td>263</td>\n",
       "      <td>137</td>\n",
       "    </tr>\n",
       "    <tr>\n",
       "      <th>4926351</th>\n",
       "      <td>2025-03-01 23:00:00+00:00</td>\n",
       "      <td>263</td>\n",
       "      <td>90</td>\n",
       "    </tr>\n",
       "  </tbody>\n",
       "</table>\n",
       "<p>4926352 rows × 3 columns</p>\n",
       "</div>"
      ],
      "text/plain": [
       "                       pickup_hour  pickup_location_id  rides\n",
       "0        2023-01-01 00:00:00+00:00                   2      0\n",
       "1        2023-01-01 01:00:00+00:00                   2      0\n",
       "2        2023-01-01 02:00:00+00:00                   2      0\n",
       "3        2023-01-01 03:00:00+00:00                   2      0\n",
       "4        2023-01-01 04:00:00+00:00                   2      0\n",
       "...                            ...                 ...    ...\n",
       "4926347  2025-03-01 19:00:00+00:00                 263    170\n",
       "4926348  2025-03-01 20:00:00+00:00                 263    140\n",
       "4926349  2025-03-01 21:00:00+00:00                 263    154\n",
       "4926350  2025-03-01 22:00:00+00:00                 263    137\n",
       "4926351  2025-03-01 23:00:00+00:00                 263     90\n",
       "\n",
       "[4926352 rows x 3 columns]"
      ]
     },
     "execution_count": 4,
     "metadata": {},
     "output_type": "execute_result"
    }
   ],
   "source": [
    "ts_data"
   ]
  },
  {
   "cell_type": "code",
   "execution_count": 5,
   "metadata": {},
   "outputs": [
    {
     "name": "stdout",
     "output_type": "stream",
     "text": [
      "<class 'pandas.core.frame.DataFrame'>\n",
      "RangeIndex: 4926352 entries, 0 to 4926351\n",
      "Data columns (total 3 columns):\n",
      " #   Column              Dtype \n",
      "---  ------              ----- \n",
      " 0   pickup_hour         object\n",
      " 1   pickup_location_id  int32 \n",
      " 2   rides               int32 \n",
      "dtypes: int32(2), object(1)\n",
      "memory usage: 75.2+ MB\n"
     ]
    }
   ],
   "source": [
    "ts_data.info()"
   ]
  },
  {
   "cell_type": "code",
   "execution_count": 6,
   "metadata": {},
   "outputs": [],
   "source": [
    "import pandas as pd\n",
    "\n",
    "ts_data[\"pickup_hour\"] = pd.to_datetime(ts_data[\"pickup_hour\"], errors=\"coerce\")\n",
    "ts_data[\"pickup_hour\"] = ts_data[\"pickup_hour\"].dt.tz_localize(None)  # Remove timezone"
   ]
  },
  {
   "cell_type": "code",
   "execution_count": 7,
   "metadata": {},
   "outputs": [
    {
     "data": {
      "text/html": [
       "<div>\n",
       "<style scoped>\n",
       "    .dataframe tbody tr th:only-of-type {\n",
       "        vertical-align: middle;\n",
       "    }\n",
       "\n",
       "    .dataframe tbody tr th {\n",
       "        vertical-align: top;\n",
       "    }\n",
       "\n",
       "    .dataframe thead th {\n",
       "        text-align: right;\n",
       "    }\n",
       "</style>\n",
       "<table border=\"1\" class=\"dataframe\">\n",
       "  <thead>\n",
       "    <tr style=\"text-align: right;\">\n",
       "      <th></th>\n",
       "      <th>pickup_hour</th>\n",
       "      <th>pickup_location_id</th>\n",
       "      <th>rides</th>\n",
       "    </tr>\n",
       "  </thead>\n",
       "  <tbody>\n",
       "    <tr>\n",
       "      <th>0</th>\n",
       "      <td>2023-01-01 00:00:00</td>\n",
       "      <td>2</td>\n",
       "      <td>0</td>\n",
       "    </tr>\n",
       "    <tr>\n",
       "      <th>1</th>\n",
       "      <td>2023-01-01 01:00:00</td>\n",
       "      <td>2</td>\n",
       "      <td>0</td>\n",
       "    </tr>\n",
       "    <tr>\n",
       "      <th>2</th>\n",
       "      <td>2023-01-01 02:00:00</td>\n",
       "      <td>2</td>\n",
       "      <td>0</td>\n",
       "    </tr>\n",
       "    <tr>\n",
       "      <th>3</th>\n",
       "      <td>2023-01-01 03:00:00</td>\n",
       "      <td>2</td>\n",
       "      <td>0</td>\n",
       "    </tr>\n",
       "    <tr>\n",
       "      <th>4</th>\n",
       "      <td>2023-01-01 04:00:00</td>\n",
       "      <td>2</td>\n",
       "      <td>0</td>\n",
       "    </tr>\n",
       "    <tr>\n",
       "      <th>...</th>\n",
       "      <td>...</td>\n",
       "      <td>...</td>\n",
       "      <td>...</td>\n",
       "    </tr>\n",
       "    <tr>\n",
       "      <th>4926347</th>\n",
       "      <td>2025-03-01 19:00:00</td>\n",
       "      <td>263</td>\n",
       "      <td>170</td>\n",
       "    </tr>\n",
       "    <tr>\n",
       "      <th>4926348</th>\n",
       "      <td>2025-03-01 20:00:00</td>\n",
       "      <td>263</td>\n",
       "      <td>140</td>\n",
       "    </tr>\n",
       "    <tr>\n",
       "      <th>4926349</th>\n",
       "      <td>2025-03-01 21:00:00</td>\n",
       "      <td>263</td>\n",
       "      <td>154</td>\n",
       "    </tr>\n",
       "    <tr>\n",
       "      <th>4926350</th>\n",
       "      <td>2025-03-01 22:00:00</td>\n",
       "      <td>263</td>\n",
       "      <td>137</td>\n",
       "    </tr>\n",
       "    <tr>\n",
       "      <th>4926351</th>\n",
       "      <td>2025-03-01 23:00:00</td>\n",
       "      <td>263</td>\n",
       "      <td>90</td>\n",
       "    </tr>\n",
       "  </tbody>\n",
       "</table>\n",
       "<p>4926352 rows × 3 columns</p>\n",
       "</div>"
      ],
      "text/plain": [
       "                pickup_hour  pickup_location_id  rides\n",
       "0       2023-01-01 00:00:00                   2      0\n",
       "1       2023-01-01 01:00:00                   2      0\n",
       "2       2023-01-01 02:00:00                   2      0\n",
       "3       2023-01-01 03:00:00                   2      0\n",
       "4       2023-01-01 04:00:00                   2      0\n",
       "...                     ...                 ...    ...\n",
       "4926347 2025-03-01 19:00:00                 263    170\n",
       "4926348 2025-03-01 20:00:00                 263    140\n",
       "4926349 2025-03-01 21:00:00                 263    154\n",
       "4926350 2025-03-01 22:00:00                 263    137\n",
       "4926351 2025-03-01 23:00:00                 263     90\n",
       "\n",
       "[4926352 rows x 3 columns]"
      ]
     },
     "execution_count": 7,
     "metadata": {},
     "output_type": "execute_result"
    }
   ],
   "source": [
    "ts_data"
   ]
  },
  {
   "cell_type": "code",
   "execution_count": 8,
   "metadata": {},
   "outputs": [],
   "source": [
    "filtered_ts_data = ts_data[ts_data[\"pickup_hour\"] > \"2025-02-01\"]"
   ]
  },
  {
   "cell_type": "code",
   "execution_count": null,
   "metadata": {},
   "outputs": [
    {
     "name": "stdout",
     "output_type": "stream",
     "text": [
      "Starting to train model for location 2...\n",
      "ARIMA model for location 2 has been created! Time: 4.807953596115112\n",
      "Test MAE for location 2 was 0.003597122266934744\n",
      "Starting to train model for location 3...\n"
     ]
    },
    {
     "name": "stderr",
     "output_type": "stream",
     "text": [
      "ValueWarning: No supported index is available. Prediction results will be given with an integer index beginning at `start`.\n"
     ]
    },
    {
     "name": "stdout",
     "output_type": "stream",
     "text": [
      "ARIMA model for location 3 has been created! Time: 22.07348132133484\n",
      "Test MAE for location 3 was 0.26037909041225793\n",
      "Starting to train model for location 4...\n"
     ]
    },
    {
     "name": "stderr",
     "output_type": "stream",
     "text": [
      "ValueWarning: No supported index is available. Prediction results will be given with an integer index beginning at `start`.\n"
     ]
    },
    {
     "name": "stdout",
     "output_type": "stream",
     "text": [
      "ARIMA model for location 4 has been created! Time: 31.811100959777832\n",
      "Test MAE for location 4 was 6.091626112616581\n",
      "Starting to train model for location 6...\n"
     ]
    },
    {
     "name": "stderr",
     "output_type": "stream",
     "text": [
      "ValueWarning: No supported index is available. Prediction results will be given with an integer index beginning at `start`.\n"
     ]
    },
    {
     "name": "stdout",
     "output_type": "stream",
     "text": [
      "ARIMA model for location 6 has been created! Time: 111.79216980934143\n",
      "Test MAE for location 6 was 0.06546346662608325\n",
      "Starting to train model for location 7...\n"
     ]
    },
    {
     "name": "stderr",
     "output_type": "stream",
     "text": [
      "ValueWarning: No supported index is available. Prediction results will be given with an integer index beginning at `start`.\n"
     ]
    },
    {
     "name": "stdout",
     "output_type": "stream",
     "text": [
      "ARIMA model for location 7 has been created! Time: 61.38252520561218\n",
      "Test MAE for location 7 was 1.5131930610748485\n",
      "Starting to train model for location 8...\n"
     ]
    },
    {
     "name": "stderr",
     "output_type": "stream",
     "text": [
      "ValueWarning: No supported index is available. Prediction results will be given with an integer index beginning at `start`.\n"
     ]
    },
    {
     "name": "stdout",
     "output_type": "stream",
     "text": [
      "ARIMA model for location 8 has been created! Time: 71.77790307998657\n",
      "Test MAE for location 8 was 1.4378816810362502e-233\n",
      "Starting to train model for location 9...\n"
     ]
    },
    {
     "name": "stderr",
     "output_type": "stream",
     "text": [
      "ValueWarning: No supported index is available. Prediction results will be given with an integer index beginning at `start`.\n"
     ]
    },
    {
     "name": "stdout",
     "output_type": "stream",
     "text": [
      "ARIMA model for location 9 has been created! Time: 41.03952240943909\n",
      "Test MAE for location 9 was 0.17223775294765492\n",
      "Starting to train model for location 10...\n"
     ]
    },
    {
     "name": "stderr",
     "output_type": "stream",
     "text": [
      "ValueWarning: No supported index is available. Prediction results will be given with an integer index beginning at `start`.\n"
     ]
    },
    {
     "name": "stdout",
     "output_type": "stream",
     "text": [
      "ARIMA model for location 10 has been created! Time: 65.50164937973022\n",
      "Test MAE for location 10 was 1.259808699429525\n",
      "Starting to train model for location 11...\n"
     ]
    },
    {
     "name": "stderr",
     "output_type": "stream",
     "text": [
      "ValueWarning: No supported index is available. Prediction results will be given with an integer index beginning at `start`.\n"
     ]
    },
    {
     "name": "stdout",
     "output_type": "stream",
     "text": [
      "ARIMA model for location 11 has been created! Time: 24.544509887695312\n",
      "Test MAE for location 11 was 0.18949604266050554\n",
      "Starting to train model for location 12...\n"
     ]
    },
    {
     "name": "stderr",
     "output_type": "stream",
     "text": [
      "ValueWarning: No supported index is available. Prediction results will be given with an integer index beginning at `start`.\n"
     ]
    },
    {
     "name": "stdout",
     "output_type": "stream",
     "text": [
      "ARIMA model for location 12 has been created! Time: 70.34525895118713\n",
      "Test MAE for location 12 was 1.105603675249426\n",
      "Starting to train model for location 13...\n"
     ]
    },
    {
     "name": "stderr",
     "output_type": "stream",
     "text": [
      "ValueWarning: No supported index is available. Prediction results will be given with an integer index beginning at `start`.\n"
     ]
    },
    {
     "name": "stdout",
     "output_type": "stream",
     "text": [
      "ARIMA model for location 13 has been created! Time: 134.37202262878418\n",
      "Test MAE for location 13 was 19.856014404980584\n",
      "Starting to train model for location 14...\n"
     ]
    },
    {
     "name": "stderr",
     "output_type": "stream",
     "text": [
      "ValueWarning: No supported index is available. Prediction results will be given with an integer index beginning at `start`.\n"
     ]
    },
    {
     "name": "stdout",
     "output_type": "stream",
     "text": [
      "ARIMA model for location 14 has been created! Time: 39.92869830131531\n",
      "Test MAE for location 14 was 0.6682849253621084\n",
      "Starting to train model for location 15...\n"
     ]
    },
    {
     "name": "stderr",
     "output_type": "stream",
     "text": [
      "ValueWarning: No supported index is available. Prediction results will be given with an integer index beginning at `start`.\n"
     ]
    },
    {
     "name": "stdout",
     "output_type": "stream",
     "text": [
      "ARIMA model for location 15 has been created! Time: 7.147857189178467\n",
      "Test MAE for location 15 was 0.1739299208115522\n",
      "Starting to train model for location 16...\n"
     ]
    },
    {
     "name": "stderr",
     "output_type": "stream",
     "text": [
      "ValueWarning: No supported index is available. Prediction results will be given with an integer index beginning at `start`.\n"
     ]
    },
    {
     "name": "stdout",
     "output_type": "stream",
     "text": [
      "ARIMA model for location 16 has been created! Time: 7.875727653503418\n",
      "Test MAE for location 16 was 0.14597214183272217\n",
      "Starting to train model for location 17...\n"
     ]
    },
    {
     "name": "stderr",
     "output_type": "stream",
     "text": [
      "ValueWarning: No supported index is available. Prediction results will be given with an integer index beginning at `start`.\n"
     ]
    },
    {
     "name": "stdout",
     "output_type": "stream",
     "text": [
      "ARIMA model for location 17 has been created! Time: 159.10006427764893\n",
      "Test MAE for location 17 was 1.1320268345464939\n",
      "Starting to train model for location 18...\n"
     ]
    },
    {
     "name": "stderr",
     "output_type": "stream",
     "text": [
      "ValueWarning: No supported index is available. Prediction results will be given with an integer index beginning at `start`.\n"
     ]
    },
    {
     "name": "stdout",
     "output_type": "stream",
     "text": [
      "ARIMA model for location 18 has been created! Time: 22.850623846054077\n",
      "Test MAE for location 18 was 0.4011260773599137\n",
      "Starting to train model for location 19...\n"
     ]
    },
    {
     "name": "stderr",
     "output_type": "stream",
     "text": [
      "ValueWarning: No supported index is available. Prediction results will be given with an integer index beginning at `start`.\n"
     ]
    },
    {
     "name": "stdout",
     "output_type": "stream",
     "text": [
      "ARIMA model for location 19 has been created! Time: 5.766097784042358\n",
      "Test MAE for location 19 was 0.27758656377954966\n",
      "Starting to train model for location 20...\n"
     ]
    },
    {
     "name": "stderr",
     "output_type": "stream",
     "text": [
      "ValueWarning: No supported index is available. Prediction results will be given with an integer index beginning at `start`.\n"
     ]
    },
    {
     "name": "stdout",
     "output_type": "stream",
     "text": [
      "ARIMA model for location 20 has been created! Time: 33.82611036300659\n",
      "Test MAE for location 20 was 0.2919281942511558\n",
      "Starting to train model for location 21...\n"
     ]
    },
    {
     "name": "stderr",
     "output_type": "stream",
     "text": [
      "ValueWarning: No supported index is available. Prediction results will be given with an integer index beginning at `start`.\n"
     ]
    },
    {
     "name": "stdout",
     "output_type": "stream",
     "text": [
      "ARIMA model for location 21 has been created! Time: 34.42864179611206\n",
      "Test MAE for location 21 was 0.31450716844796944\n",
      "Starting to train model for location 22...\n"
     ]
    },
    {
     "name": "stderr",
     "output_type": "stream",
     "text": [
      "ValueWarning: No supported index is available. Prediction results will be given with an integer index beginning at `start`.\n"
     ]
    },
    {
     "name": "stdout",
     "output_type": "stream",
     "text": [
      "ARIMA model for location 22 has been created! Time: 70.01157331466675\n",
      "Test MAE for location 22 was 0.47746108440039564\n",
      "Starting to train model for location 23...\n"
     ]
    },
    {
     "name": "stderr",
     "output_type": "stream",
     "text": [
      "ValueWarning: No supported index is available. Prediction results will be given with an integer index beginning at `start`.\n"
     ]
    },
    {
     "name": "stdout",
     "output_type": "stream",
     "text": [
      "ARIMA model for location 23 has been created! Time: 151.81932497024536\n",
      "Test MAE for location 23 was 0.019227870916352426\n",
      "Starting to train model for location 24...\n"
     ]
    },
    {
     "name": "stderr",
     "output_type": "stream",
     "text": [
      "ValueWarning: No supported index is available. Prediction results will be given with an integer index beginning at `start`.\n"
     ]
    },
    {
     "name": "stdout",
     "output_type": "stream",
     "text": [
      "ARIMA model for location 24 has been created! Time: 95.71425724029541\n",
      "Test MAE for location 24 was 6.58984820693205\n",
      "Starting to train model for location 25...\n"
     ]
    },
    {
     "name": "stderr",
     "output_type": "stream",
     "text": [
      "ValueWarning: No supported index is available. Prediction results will be given with an integer index beginning at `start`.\n"
     ]
    },
    {
     "name": "stdout",
     "output_type": "stream",
     "text": [
      "ARIMA model for location 25 has been created! Time: 27.578659534454346\n",
      "Test MAE for location 25 was 1.682054398913831\n",
      "Starting to train model for location 26...\n"
     ]
    },
    {
     "name": "stderr",
     "output_type": "stream",
     "text": [
      "ValueWarning: No supported index is available. Prediction results will be given with an integer index beginning at `start`.\n"
     ]
    },
    {
     "name": "stdout",
     "output_type": "stream",
     "text": [
      "ARIMA model for location 26 has been created! Time: 131.31202507019043\n",
      "Test MAE for location 26 was 0.5080583062377266\n",
      "Starting to train model for location 27...\n"
     ]
    },
    {
     "name": "stderr",
     "output_type": "stream",
     "text": [
      "ValueWarning: No supported index is available. Prediction results will be given with an integer index beginning at `start`.\n"
     ]
    },
    {
     "name": "stdout",
     "output_type": "stream",
     "text": [
      "ARIMA model for location 27 has been created! Time: 4.837397813796997\n",
      "Test MAE for location 27 was 0.02137570518440972\n",
      "Starting to train model for location 28...\n"
     ]
    },
    {
     "name": "stderr",
     "output_type": "stream",
     "text": [
      "ValueWarning: No supported index is available. Prediction results will be given with an integer index beginning at `start`.\n"
     ]
    },
    {
     "name": "stdout",
     "output_type": "stream",
     "text": [
      "ARIMA model for location 28 has been created! Time: 7.947418928146362\n",
      "Test MAE for location 28 was 0.7115362010417803\n",
      "Starting to train model for location 29...\n"
     ]
    },
    {
     "name": "stderr",
     "output_type": "stream",
     "text": [
      "ValueWarning: No supported index is available. Prediction results will be given with an integer index beginning at `start`.\n"
     ]
    },
    {
     "name": "stdout",
     "output_type": "stream",
     "text": [
      "ARIMA model for location 29 has been created! Time: 47.675873041152954\n",
      "Test MAE for location 29 was 0.45634377115239105\n",
      "Starting to train model for location 30...\n"
     ]
    },
    {
     "name": "stderr",
     "output_type": "stream",
     "text": [
      "ValueWarning: No supported index is available. Prediction results will be given with an integer index beginning at `start`.\n"
     ]
    },
    {
     "name": "stdout",
     "output_type": "stream",
     "text": [
      "ARIMA model for location 30 has been created! Time: 4.232287168502808\n",
      "Test MAE for location 30 was 0.0\n",
      "Starting to train model for location 31...\n"
     ]
    },
    {
     "name": "stderr",
     "output_type": "stream",
     "text": [
      "ValueWarning: No supported index is available. Prediction results will be given with an integer index beginning at `start`.\n"
     ]
    },
    {
     "name": "stdout",
     "output_type": "stream",
     "text": [
      "ARIMA model for location 31 has been created! Time: 8.15303349494934\n",
      "Test MAE for location 31 was 0.04401521236709724\n",
      "Starting to train model for location 32...\n"
     ]
    },
    {
     "name": "stderr",
     "output_type": "stream",
     "text": [
      "ValueWarning: No supported index is available. Prediction results will be given with an integer index beginning at `start`.\n"
     ]
    },
    {
     "name": "stdout",
     "output_type": "stream",
     "text": [
      "ARIMA model for location 32 has been created! Time: 43.55064821243286\n",
      "Test MAE for location 32 was 0.38097110494219916\n",
      "Starting to train model for location 33...\n"
     ]
    },
    {
     "name": "stderr",
     "output_type": "stream",
     "text": [
      "ValueWarning: No supported index is available. Prediction results will be given with an integer index beginning at `start`.\n"
     ]
    },
    {
     "name": "stdout",
     "output_type": "stream",
     "text": [
      "ARIMA model for location 33 has been created! Time: 46.84443473815918\n",
      "Test MAE for location 33 was 2.1829083350151057\n",
      "Starting to train model for location 34...\n"
     ]
    },
    {
     "name": "stderr",
     "output_type": "stream",
     "text": [
      "ValueWarning: No supported index is available. Prediction results will be given with an integer index beginning at `start`.\n"
     ]
    },
    {
     "name": "stdout",
     "output_type": "stream",
     "text": [
      "ARIMA model for location 34 has been created! Time: 7.5902323722839355\n",
      "Test MAE for location 34 was 0.2437848571004818\n",
      "Starting to train model for location 35...\n"
     ]
    },
    {
     "name": "stderr",
     "output_type": "stream",
     "text": [
      "ValueWarning: No supported index is available. Prediction results will be given with an integer index beginning at `start`.\n"
     ]
    },
    {
     "name": "stdout",
     "output_type": "stream",
     "text": [
      "ARIMA model for location 35 has been created! Time: 94.05321764945984\n",
      "Test MAE for location 35 was 1.1915949084495392\n",
      "Starting to train model for location 36...\n"
     ]
    },
    {
     "name": "stderr",
     "output_type": "stream",
     "text": [
      "ValueWarning: No supported index is available. Prediction results will be given with an integer index beginning at `start`.\n"
     ]
    },
    {
     "name": "stdout",
     "output_type": "stream",
     "text": [
      "ARIMA model for location 36 has been created! Time: 41.12273168563843\n",
      "Test MAE for location 36 was 0.5644832401934144\n",
      "Starting to train model for location 37...\n"
     ]
    },
    {
     "name": "stderr",
     "output_type": "stream",
     "text": [
      "ValueWarning: No supported index is available. Prediction results will be given with an integer index beginning at `start`.\n"
     ]
    },
    {
     "name": "stdout",
     "output_type": "stream",
     "text": [
      "ARIMA model for location 37 has been created! Time: 65.24473094940186\n",
      "Test MAE for location 37 was 0.925484624062073\n",
      "Starting to train model for location 38...\n"
     ]
    },
    {
     "name": "stderr",
     "output_type": "stream",
     "text": [
      "ValueWarning: No supported index is available. Prediction results will be given with an integer index beginning at `start`.\n"
     ]
    },
    {
     "name": "stdout",
     "output_type": "stream",
     "text": [
      "ARIMA model for location 38 has been created! Time: 52.967588663101196\n",
      "Test MAE for location 38 was 0.3538027566710372\n",
      "Starting to train model for location 39...\n"
     ]
    },
    {
     "name": "stderr",
     "output_type": "stream",
     "text": [
      "ValueWarning: No supported index is available. Prediction results will be given with an integer index beginning at `start`.\n"
     ]
    },
    {
     "name": "stdout",
     "output_type": "stream",
     "text": [
      "ARIMA model for location 39 has been created! Time: 97.4766411781311\n",
      "Test MAE for location 39 was 1.2409759750112843\n",
      "Starting to train model for location 40...\n"
     ]
    },
    {
     "name": "stderr",
     "output_type": "stream",
     "text": [
      "ValueWarning: No supported index is available. Prediction results will be given with an integer index beginning at `start`.\n"
     ]
    },
    {
     "name": "stdout",
     "output_type": "stream",
     "text": [
      "ARIMA model for location 40 has been created! Time: 73.55657124519348\n",
      "Test MAE for location 40 was 0.9267779277855431\n",
      "Starting to train model for location 41...\n"
     ]
    },
    {
     "name": "stderr",
     "output_type": "stream",
     "text": [
      "ValueWarning: No supported index is available. Prediction results will be given with an integer index beginning at `start`.\n"
     ]
    },
    {
     "name": "stdout",
     "output_type": "stream",
     "text": [
      "ARIMA model for location 41 has been created! Time: 122.48482537269592\n",
      "Test MAE for location 41 was 7.921117125529543\n",
      "Starting to train model for location 42...\n"
     ]
    },
    {
     "name": "stderr",
     "output_type": "stream",
     "text": [
      "ValueWarning: No supported index is available. Prediction results will be given with an integer index beginning at `start`.\n"
     ]
    },
    {
     "name": "stdout",
     "output_type": "stream",
     "text": [
      "ARIMA model for location 42 has been created! Time: 52.32404637336731\n",
      "Test MAE for location 42 was 4.216411816693201\n",
      "Starting to train model for location 43...\n"
     ]
    },
    {
     "name": "stderr",
     "output_type": "stream",
     "text": [
      "ValueWarning: No supported index is available. Prediction results will be given with an integer index beginning at `start`.\n"
     ]
    },
    {
     "name": "stdout",
     "output_type": "stream",
     "text": [
      "ARIMA model for location 43 has been created! Time: 150.8585546016693\n",
      "Test MAE for location 43 was 20.03135931182912\n",
      "Starting to train model for location 45...\n"
     ]
    },
    {
     "name": "stderr",
     "output_type": "stream",
     "text": [
      "ValueWarning: No supported index is available. Prediction results will be given with an integer index beginning at `start`.\n"
     ]
    },
    {
     "name": "stdout",
     "output_type": "stream",
     "text": [
      "ARIMA model for location 45 has been created! Time: 108.47732400894165\n",
      "Test MAE for location 45 was 4.051083449306783\n",
      "Starting to train model for location 46...\n"
     ]
    },
    {
     "name": "stderr",
     "output_type": "stream",
     "text": [
      "ValueWarning: No supported index is available. Prediction results will be given with an integer index beginning at `start`.\n"
     ]
    },
    {
     "name": "stdout",
     "output_type": "stream",
     "text": [
      "ARIMA model for location 46 has been created! Time: 6.516727924346924\n",
      "Test MAE for location 46 was 0.03023911805804113\n",
      "Starting to train model for location 47...\n"
     ]
    },
    {
     "name": "stderr",
     "output_type": "stream",
     "text": [
      "ValueWarning: No supported index is available. Prediction results will be given with an integer index beginning at `start`.\n"
     ]
    },
    {
     "name": "stdout",
     "output_type": "stream",
     "text": [
      "ARIMA model for location 47 has been created! Time: 9.766868591308594\n",
      "Test MAE for location 47 was 0.43943118886168\n",
      "Starting to train model for location 48...\n"
     ]
    },
    {
     "name": "stderr",
     "output_type": "stream",
     "text": [
      "ValueWarning: No supported index is available. Prediction results will be given with an integer index beginning at `start`.\n"
     ]
    },
    {
     "name": "stdout",
     "output_type": "stream",
     "text": [
      "ARIMA model for location 48 has been created! Time: 101.09028577804565\n",
      "Test MAE for location 48 was 46.069124567814555\n",
      "Starting to train model for location 49...\n"
     ]
    },
    {
     "name": "stderr",
     "output_type": "stream",
     "text": [
      "ValueWarning: No supported index is available. Prediction results will be given with an integer index beginning at `start`.\n"
     ]
    },
    {
     "name": "stdout",
     "output_type": "stream",
     "text": [
      "ARIMA model for location 49 has been created! Time: 26.766652822494507\n",
      "Test MAE for location 49 was 1.0964800714045118\n",
      "Starting to train model for location 50...\n"
     ]
    },
    {
     "name": "stderr",
     "output_type": "stream",
     "text": [
      "ValueWarning: No supported index is available. Prediction results will be given with an integer index beginning at `start`.\n"
     ]
    },
    {
     "name": "stdout",
     "output_type": "stream",
     "text": [
      "ARIMA model for location 50 has been created! Time: 60.13164210319519\n",
      "Test MAE for location 50 was 15.497496542126205\n",
      "Starting to train model for location 51...\n"
     ]
    },
    {
     "name": "stderr",
     "output_type": "stream",
     "text": [
      "ValueWarning: No supported index is available. Prediction results will be given with an integer index beginning at `start`.\n"
     ]
    },
    {
     "name": "stdout",
     "output_type": "stream",
     "text": [
      "ARIMA model for location 51 has been created! Time: 37.56671166419983\n",
      "Test MAE for location 51 was 0.7848116623910539\n",
      "Starting to train model for location 52...\n"
     ]
    },
    {
     "name": "stderr",
     "output_type": "stream",
     "text": [
      "ValueWarning: No supported index is available. Prediction results will be given with an integer index beginning at `start`.\n"
     ]
    },
    {
     "name": "stdout",
     "output_type": "stream",
     "text": [
      "ARIMA model for location 52 has been created! Time: 70.75063252449036\n",
      "Test MAE for location 52 was 1.0703348508524817\n",
      "Starting to train model for location 53...\n"
     ]
    },
    {
     "name": "stderr",
     "output_type": "stream",
     "text": [
      "ValueWarning: No supported index is available. Prediction results will be given with an integer index beginning at `start`.\n"
     ]
    },
    {
     "name": "stdout",
     "output_type": "stream",
     "text": [
      "ARIMA model for location 53 has been created! Time: 19.89017939567566\n",
      "Test MAE for location 53 was 0.14881170131085522\n",
      "Starting to train model for location 54...\n"
     ]
    },
    {
     "name": "stderr",
     "output_type": "stream",
     "text": [
      "ValueWarning: No supported index is available. Prediction results will be given with an integer index beginning at `start`.\n"
     ]
    },
    {
     "name": "stdout",
     "output_type": "stream",
     "text": [
      "ARIMA model for location 54 has been created! Time: 4.7881669998168945\n",
      "Test MAE for location 54 was 0.1745121888037261\n",
      "Starting to train model for location 55...\n"
     ]
    },
    {
     "name": "stderr",
     "output_type": "stream",
     "text": [
      "ValueWarning: No supported index is available. Prediction results will be given with an integer index beginning at `start`.\n"
     ]
    },
    {
     "name": "stdout",
     "output_type": "stream",
     "text": [
      "ARIMA model for location 55 has been created! Time: 195.84267473220825\n",
      "Test MAE for location 55 was 0.7121668835069238\n",
      "Starting to train model for location 56...\n"
     ]
    },
    {
     "name": "stderr",
     "output_type": "stream",
     "text": [
      "ValueWarning: No supported index is available. Prediction results will be given with an integer index beginning at `start`.\n"
     ]
    },
    {
     "name": "stdout",
     "output_type": "stream",
     "text": [
      "ARIMA model for location 56 has been created! Time: 30.428351879119873\n",
      "Test MAE for location 56 was 0.6437886849144386\n",
      "Starting to train model for location 57...\n"
     ]
    },
    {
     "name": "stderr",
     "output_type": "stream",
     "text": [
      "ValueWarning: No supported index is available. Prediction results will be given with an integer index beginning at `start`.\n"
     ]
    },
    {
     "name": "stdout",
     "output_type": "stream",
     "text": [
      "ARIMA model for location 57 has been created! Time: 4.606443881988525\n",
      "Test MAE for location 57 was 0.026745510060499078\n",
      "Starting to train model for location 58...\n"
     ]
    },
    {
     "name": "stderr",
     "output_type": "stream",
     "text": [
      "ValueWarning: No supported index is available. Prediction results will be given with an integer index beginning at `start`.\n"
     ]
    },
    {
     "name": "stdout",
     "output_type": "stream",
     "text": [
      "ARIMA model for location 58 has been created! Time: 5.718817472457886\n",
      "Test MAE for location 58 was 0.021375705161784126\n",
      "Starting to train model for location 59...\n"
     ]
    },
    {
     "name": "stderr",
     "output_type": "stream",
     "text": [
      "ValueWarning: No supported index is available. Prediction results will be given with an integer index beginning at `start`.\n"
     ]
    },
    {
     "name": "stdout",
     "output_type": "stream",
     "text": [
      "ARIMA model for location 59 has been created! Time: 4.5468151569366455\n",
      "Test MAE for location 59 was 0.003597122296718634\n",
      "Starting to train model for location 60...\n"
     ]
    },
    {
     "name": "stderr",
     "output_type": "stream",
     "text": [
      "ValueWarning: No supported index is available. Prediction results will be given with an integer index beginning at `start`.\n"
     ]
    },
    {
     "name": "stdout",
     "output_type": "stream",
     "text": [
      "ARIMA model for location 60 has been created! Time: 14.504040002822876\n",
      "Test MAE for location 60 was 0.2835236452587743\n",
      "Starting to train model for location 61...\n"
     ]
    },
    {
     "name": "stderr",
     "output_type": "stream",
     "text": [
      "ValueWarning: No supported index is available. Prediction results will be given with an integer index beginning at `start`.\n"
     ]
    },
    {
     "name": "stdout",
     "output_type": "stream",
     "text": [
      "ARIMA model for location 61 has been created! Time: 288.7410717010498\n",
      "Test MAE for location 61 was 1.742007223597858\n",
      "Starting to train model for location 62...\n"
     ]
    },
    {
     "name": "stderr",
     "output_type": "stream",
     "text": [
      "ValueWarning: No supported index is available. Prediction results will be given with an integer index beginning at `start`.\n"
     ]
    },
    {
     "name": "stdout",
     "output_type": "stream",
     "text": [
      "ARIMA model for location 62 has been created! Time: 106.15115261077881\n",
      "Test MAE for location 62 was 0.78888580268018\n",
      "Starting to train model for location 63...\n"
     ]
    },
    {
     "name": "stderr",
     "output_type": "stream",
     "text": [
      "ValueWarning: No supported index is available. Prediction results will be given with an integer index beginning at `start`.\n"
     ]
    },
    {
     "name": "stdout",
     "output_type": "stream",
     "text": [
      "ARIMA model for location 63 has been created! Time: 51.610954999923706\n",
      "Test MAE for location 63 was 0.4157226646574117\n",
      "Starting to train model for location 64...\n"
     ]
    },
    {
     "name": "stderr",
     "output_type": "stream",
     "text": [
      "ValueWarning: No supported index is available. Prediction results will be given with an integer index beginning at `start`.\n"
     ]
    },
    {
     "name": "stdout",
     "output_type": "stream",
     "text": [
      "ARIMA model for location 64 has been created! Time: 14.860520124435425\n",
      "Test MAE for location 64 was 0.11011144703012331\n",
      "Starting to train model for location 65...\n"
     ]
    },
    {
     "name": "stderr",
     "output_type": "stream",
     "text": [
      "ValueWarning: No supported index is available. Prediction results will be given with an integer index beginning at `start`.\n"
     ]
    },
    {
     "name": "stdout",
     "output_type": "stream",
     "text": [
      "ARIMA model for location 65 has been created! Time: 51.127532958984375\n",
      "Test MAE for location 65 was 1.9582022091245799\n",
      "Starting to train model for location 66...\n"
     ]
    },
    {
     "name": "stderr",
     "output_type": "stream",
     "text": [
      "ValueWarning: No supported index is available. Prediction results will be given with an integer index beginning at `start`.\n"
     ]
    },
    {
     "name": "stdout",
     "output_type": "stream",
     "text": [
      "ARIMA model for location 66 has been created! Time: 129.59854245185852\n",
      "Test MAE for location 66 was 1.3851392809908998\n",
      "Starting to train model for location 67...\n"
     ]
    },
    {
     "name": "stderr",
     "output_type": "stream",
     "text": [
      "ValueWarning: No supported index is available. Prediction results will be given with an integer index beginning at `start`.\n"
     ]
    },
    {
     "name": "stdout",
     "output_type": "stream",
     "text": [
      "ARIMA model for location 67 has been created! Time: 104.73337197303772\n",
      "Test MAE for location 67 was 0.24692570169655437\n",
      "Starting to train model for location 68...\n"
     ]
    },
    {
     "name": "stderr",
     "output_type": "stream",
     "text": [
      "ValueWarning: No supported index is available. Prediction results will be given with an integer index beginning at `start`.\n"
     ]
    },
    {
     "name": "stdout",
     "output_type": "stream",
     "text": [
      "ARIMA model for location 68 has been created! Time: 104.9658637046814\n",
      "Test MAE for location 68 was 52.02846692376803\n",
      "Starting to train model for location 69...\n"
     ]
    },
    {
     "name": "stderr",
     "output_type": "stream",
     "text": [
      "ValueWarning: No supported index is available. Prediction results will be given with an integer index beginning at `start`.\n"
     ]
    },
    {
     "name": "stdout",
     "output_type": "stream",
     "text": [
      "ARIMA model for location 69 has been created! Time: 39.60474228858948\n",
      "Test MAE for location 69 was 0.8069375285747217\n",
      "Starting to train model for location 70...\n"
     ]
    },
    {
     "name": "stderr",
     "output_type": "stream",
     "text": [
      "ValueWarning: No supported index is available. Prediction results will be given with an integer index beginning at `start`.\n"
     ]
    },
    {
     "name": "stdout",
     "output_type": "stream",
     "text": [
      "ARIMA model for location 70 has been created! Time: 125.17993664741516\n",
      "Test MAE for location 70 was 6.6255622247546535\n",
      "Starting to train model for location 71...\n"
     ]
    },
    {
     "name": "stderr",
     "output_type": "stream",
     "text": [
      "ValueWarning: No supported index is available. Prediction results will be given with an integer index beginning at `start`.\n"
     ]
    },
    {
     "name": "stdout",
     "output_type": "stream",
     "text": [
      "ARIMA model for location 71 has been created! Time: 106.811274766922\n",
      "Test MAE for location 71 was 0.7269052514421432\n",
      "Starting to train model for location 72...\n"
     ]
    },
    {
     "name": "stderr",
     "output_type": "stream",
     "text": [
      "ValueWarning: No supported index is available. Prediction results will be given with an integer index beginning at `start`.\n"
     ]
    },
    {
     "name": "stdout",
     "output_type": "stream",
     "text": [
      "ARIMA model for location 72 has been created! Time: 150.85808205604553\n",
      "Test MAE for location 72 was 1.0530784887421027\n",
      "Starting to train model for location 73...\n"
     ]
    },
    {
     "name": "stderr",
     "output_type": "stream",
     "text": [
      "ValueWarning: No supported index is available. Prediction results will be given with an integer index beginning at `start`.\n"
     ]
    },
    {
     "name": "stdout",
     "output_type": "stream",
     "text": [
      "ARIMA model for location 73 has been created! Time: 156.99309086799622\n",
      "Test MAE for location 73 was 0.09525526730041597\n",
      "Starting to train model for location 74...\n"
     ]
    },
    {
     "name": "stderr",
     "output_type": "stream",
     "text": [
      "ValueWarning: No supported index is available. Prediction results will be given with an integer index beginning at `start`.\n"
     ]
    },
    {
     "name": "stdout",
     "output_type": "stream",
     "text": [
      "ARIMA model for location 74 has been created! Time: 122.85223698616028\n",
      "Test MAE for location 74 was 7.363828635331766\n",
      "Starting to train model for location 75...\n"
     ]
    },
    {
     "name": "stderr",
     "output_type": "stream",
     "text": [
      "ValueWarning: No supported index is available. Prediction results will be given with an integer index beginning at `start`.\n"
     ]
    },
    {
     "name": "stdout",
     "output_type": "stream",
     "text": [
      "ARIMA model for location 75 has been created! Time: 164.39583492279053\n",
      "Test MAE for location 75 was 18.515541151422987\n",
      "Starting to train model for location 76...\n"
     ]
    },
    {
     "name": "stderr",
     "output_type": "stream",
     "text": [
      "ValueWarning: No supported index is available. Prediction results will be given with an integer index beginning at `start`.\n"
     ]
    },
    {
     "name": "stdout",
     "output_type": "stream",
     "text": [
      "ARIMA model for location 76 has been created! Time: 90.87449169158936\n",
      "Test MAE for location 76 was 1.4736079743668844\n",
      "Starting to train model for location 77...\n"
     ]
    },
    {
     "name": "stderr",
     "output_type": "stream",
     "text": [
      "ValueWarning: No supported index is available. Prediction results will be given with an integer index beginning at `start`.\n"
     ]
    },
    {
     "name": "stdout",
     "output_type": "stream",
     "text": [
      "ARIMA model for location 77 has been created! Time: 67.55256152153015\n",
      "Test MAE for location 77 was 0.47214546802448265\n",
      "Starting to train model for location 78...\n"
     ]
    },
    {
     "name": "stderr",
     "output_type": "stream",
     "text": [
      "ValueWarning: No supported index is available. Prediction results will be given with an integer index beginning at `start`.\n"
     ]
    },
    {
     "name": "stdout",
     "output_type": "stream",
     "text": [
      "ARIMA model for location 78 has been created! Time: 60.34237003326416\n",
      "Test MAE for location 78 was 0.5253416247343032\n",
      "Starting to train model for location 79...\n"
     ]
    },
    {
     "name": "stderr",
     "output_type": "stream",
     "text": [
      "ValueWarning: No supported index is available. Prediction results will be given with an integer index beginning at `start`.\n"
     ]
    },
    {
     "name": "stdout",
     "output_type": "stream",
     "text": [
      "ARIMA model for location 79 has been created! Time: 82.7023401260376\n",
      "Test MAE for location 79 was 80.51108510024005\n",
      "Starting to train model for location 80...\n"
     ]
    },
    {
     "name": "stderr",
     "output_type": "stream",
     "text": [
      "ValueWarning: No supported index is available. Prediction results will be given with an integer index beginning at `start`.\n"
     ]
    },
    {
     "name": "stdout",
     "output_type": "stream",
     "text": [
      "ARIMA model for location 80 has been created! Time: 33.25933623313904\n",
      "Test MAE for location 80 was 1.0866371895017135\n",
      "Starting to train model for location 81...\n"
     ]
    },
    {
     "name": "stderr",
     "output_type": "stream",
     "text": [
      "ValueWarning: No supported index is available. Prediction results will be given with an integer index beginning at `start`.\n"
     ]
    },
    {
     "name": "stdout",
     "output_type": "stream",
     "text": [
      "ARIMA model for location 81 has been created! Time: 149.2333915233612\n",
      "Test MAE for location 81 was 0.35115748516777245\n",
      "Starting to train model for location 82...\n"
     ]
    },
    {
     "name": "stderr",
     "output_type": "stream",
     "text": [
      "ValueWarning: No supported index is available. Prediction results will be given with an integer index beginning at `start`.\n"
     ]
    },
    {
     "name": "stdout",
     "output_type": "stream",
     "text": [
      "ARIMA model for location 82 has been created! Time: 8.73485016822815\n",
      "Test MAE for location 82 was 0.7105776742934778\n",
      "Starting to train model for location 83...\n"
     ]
    },
    {
     "name": "stderr",
     "output_type": "stream",
     "text": [
      "ValueWarning: No supported index is available. Prediction results will be given with an integer index beginning at `start`.\n"
     ]
    },
    {
     "name": "stdout",
     "output_type": "stream",
     "text": [
      "ARIMA model for location 83 has been created! Time: 9.573039054870605\n",
      "Test MAE for location 83 was 0.443157704052504\n",
      "Starting to train model for location 84...\n",
      "ARIMA model for location 84 has been created! Time: 0.05323934555053711\n",
      "Test MAE for location 84 was 0.0\n",
      "Starting to train model for location 85...\n"
     ]
    },
    {
     "name": "stderr",
     "output_type": "stream",
     "text": [
      "ValueWarning: No supported index is available. Prediction results will be given with an integer index beginning at `start`.\n",
      "UserWarning: Input time-series is completely constant; returning a (0, 0, 0) ARMA.\n",
      "ValueWarning: No supported index is available. Prediction results will be given with an integer index beginning at `start`.\n"
     ]
    },
    {
     "name": "stdout",
     "output_type": "stream",
     "text": [
      "ARIMA model for location 85 has been created! Time: 61.19407653808594\n",
      "Test MAE for location 85 was 0.6925645096985494\n",
      "Starting to train model for location 86...\n"
     ]
    },
    {
     "name": "stderr",
     "output_type": "stream",
     "text": [
      "ValueWarning: No supported index is available. Prediction results will be given with an integer index beginning at `start`.\n"
     ]
    },
    {
     "name": "stdout",
     "output_type": "stream",
     "text": [
      "ARIMA model for location 86 has been created! Time: 78.75722217559814\n",
      "Test MAE for location 86 was 0.6416871275120752\n",
      "Starting to train model for location 87...\n"
     ]
    },
    {
     "name": "stderr",
     "output_type": "stream",
     "text": [
      "ValueWarning: No supported index is available. Prediction results will be given with an integer index beginning at `start`.\n"
     ]
    },
    {
     "name": "stdout",
     "output_type": "stream",
     "text": [
      "ARIMA model for location 87 has been created! Time: 103.6285171508789\n",
      "Test MAE for location 87 was 13.643126434128812\n",
      "Starting to train model for location 88...\n"
     ]
    },
    {
     "name": "stderr",
     "output_type": "stream",
     "text": [
      "ValueWarning: No supported index is available. Prediction results will be given with an integer index beginning at `start`.\n"
     ]
    },
    {
     "name": "stdout",
     "output_type": "stream",
     "text": [
      "ARIMA model for location 88 has been created! Time: 54.28830027580261\n",
      "Test MAE for location 88 was 8.685551721524174\n",
      "Starting to train model for location 89...\n"
     ]
    },
    {
     "name": "stderr",
     "output_type": "stream",
     "text": [
      "ValueWarning: No supported index is available. Prediction results will be given with an integer index beginning at `start`.\n"
     ]
    },
    {
     "name": "stdout",
     "output_type": "stream",
     "text": [
      "ARIMA model for location 89 has been created! Time: 100.6931529045105\n",
      "Test MAE for location 89 was 1.2911591917734693\n",
      "Starting to train model for location 90...\n"
     ]
    },
    {
     "name": "stderr",
     "output_type": "stream",
     "text": [
      "ValueWarning: No supported index is available. Prediction results will be given with an integer index beginning at `start`.\n"
     ]
    },
    {
     "name": "stdout",
     "output_type": "stream",
     "text": [
      "ARIMA model for location 90 has been created! Time: 57.50540065765381\n",
      "Test MAE for location 90 was 35.90028852815935\n",
      "Starting to train model for location 91...\n"
     ]
    },
    {
     "name": "stderr",
     "output_type": "stream",
     "text": [
      "ValueWarning: No supported index is available. Prediction results will be given with an integer index beginning at `start`.\n"
     ]
    },
    {
     "name": "stdout",
     "output_type": "stream",
     "text": [
      "ARIMA model for location 91 has been created! Time: 104.18691873550415\n",
      "Test MAE for location 91 was 0.911505597456748\n",
      "Starting to train model for location 92...\n"
     ]
    },
    {
     "name": "stderr",
     "output_type": "stream",
     "text": [
      "ValueWarning: No supported index is available. Prediction results will be given with an integer index beginning at `start`.\n"
     ]
    },
    {
     "name": "stdout",
     "output_type": "stream",
     "text": [
      "ARIMA model for location 92 has been created! Time: 19.008371114730835\n",
      "Test MAE for location 92 was 0.45509457999328357\n",
      "Starting to train model for location 93...\n"
     ]
    },
    {
     "name": "stderr",
     "output_type": "stream",
     "text": [
      "ValueWarning: No supported index is available. Prediction results will be given with an integer index beginning at `start`.\n"
     ]
    },
    {
     "name": "stdout",
     "output_type": "stream",
     "text": [
      "ARIMA model for location 93 has been created! Time: 44.3485312461853\n",
      "Test MAE for location 93 was 0.7108037004211235\n",
      "Starting to train model for location 94...\n"
     ]
    },
    {
     "name": "stderr",
     "output_type": "stream",
     "text": [
      "ValueWarning: No supported index is available. Prediction results will be given with an integer index beginning at `start`.\n"
     ]
    },
    {
     "name": "stdout",
     "output_type": "stream",
     "text": [
      "ARIMA model for location 94 has been created! Time: 31.467051029205322\n",
      "Test MAE for location 94 was 0.276518132262264\n",
      "Starting to train model for location 95...\n"
     ]
    },
    {
     "name": "stderr",
     "output_type": "stream",
     "text": [
      "ValueWarning: No supported index is available. Prediction results will be given with an integer index beginning at `start`.\n"
     ]
    },
    {
     "name": "stdout",
     "output_type": "stream",
     "text": [
      "ARIMA model for location 95 has been created! Time: 9.01265025138855\n",
      "Test MAE for location 95 was 0.9347115575375448\n",
      "Starting to train model for location 96...\n"
     ]
    },
    {
     "name": "stderr",
     "output_type": "stream",
     "text": [
      "ValueWarning: No supported index is available. Prediction results will be given with an integer index beginning at `start`.\n"
     ]
    },
    {
     "name": "stdout",
     "output_type": "stream",
     "text": [
      "ARIMA model for location 96 has been created! Time: 15.734801769256592\n",
      "Test MAE for location 96 was 0.021320817314145753\n",
      "Starting to train model for location 97...\n"
     ]
    },
    {
     "name": "stderr",
     "output_type": "stream",
     "text": [
      "ValueWarning: No supported index is available. Prediction results will be given with an integer index beginning at `start`.\n"
     ]
    },
    {
     "name": "stdout",
     "output_type": "stream",
     "text": [
      "ARIMA model for location 97 has been created! Time: 36.604657888412476\n",
      "Test MAE for location 97 was 1.514443440598452\n",
      "Starting to train model for location 98...\n"
     ]
    },
    {
     "name": "stderr",
     "output_type": "stream",
     "text": [
      "ValueWarning: No supported index is available. Prediction results will be given with an integer index beginning at `start`.\n"
     ]
    },
    {
     "name": "stdout",
     "output_type": "stream",
     "text": [
      "ARIMA model for location 98 has been created! Time: 8.222021341323853\n",
      "Test MAE for location 98 was 0.1956679259419603\n",
      "Starting to train model for location 99...\n"
     ]
    },
    {
     "name": "stderr",
     "output_type": "stream",
     "text": [
      "ValueWarning: No supported index is available. Prediction results will be given with an integer index beginning at `start`.\n"
     ]
    },
    {
     "name": "stdout",
     "output_type": "stream",
     "text": [
      "ARIMA model for location 99 has been created! Time: 3.459319829940796\n",
      "Test MAE for location 99 was 0.0\n",
      "Starting to train model for location 100...\n"
     ]
    },
    {
     "name": "stderr",
     "output_type": "stream",
     "text": [
      "ValueWarning: No supported index is available. Prediction results will be given with an integer index beginning at `start`.\n"
     ]
    },
    {
     "name": "stdout",
     "output_type": "stream",
     "text": [
      "ARIMA model for location 100 has been created! Time: 80.4325304031372\n",
      "Test MAE for location 100 was 31.83891828830104\n",
      "Starting to train model for location 101...\n"
     ]
    },
    {
     "name": "stderr",
     "output_type": "stream",
     "text": [
      "ValueWarning: No supported index is available. Prediction results will be given with an integer index beginning at `start`.\n"
     ]
    },
    {
     "name": "stdout",
     "output_type": "stream",
     "text": [
      "ARIMA model for location 101 has been created! Time: 33.028016567230225\n",
      "Test MAE for location 101 was 0.13459482888626384\n",
      "Starting to train model for location 102...\n"
     ]
    },
    {
     "name": "stderr",
     "output_type": "stream",
     "text": [
      "ValueWarning: No supported index is available. Prediction results will be given with an integer index beginning at `start`.\n"
     ]
    },
    {
     "name": "stdout",
     "output_type": "stream",
     "text": [
      "ARIMA model for location 102 has been created! Time: 8.38010048866272\n",
      "Test MAE for location 102 was 0.27010765480393323\n",
      "Starting to train model for location 105...\n",
      "ARIMA model for location 105 has been created! Time: 0.029582738876342773\n",
      "Test MAE for location 105 was 0.0\n",
      "Starting to train model for location 106...\n"
     ]
    },
    {
     "name": "stderr",
     "output_type": "stream",
     "text": [
      "ValueWarning: No supported index is available. Prediction results will be given with an integer index beginning at `start`.\n",
      "UserWarning: Input time-series is completely constant; returning a (0, 0, 0) ARMA.\n",
      "ValueWarning: No supported index is available. Prediction results will be given with an integer index beginning at `start`.\n"
     ]
    },
    {
     "name": "stdout",
     "output_type": "stream",
     "text": [
      "ARIMA model for location 106 has been created! Time: 19.079514980316162\n",
      "Test MAE for location 106 was 0.41737282171283857\n",
      "Starting to train model for location 107...\n"
     ]
    },
    {
     "name": "stderr",
     "output_type": "stream",
     "text": [
      "ValueWarning: No supported index is available. Prediction results will be given with an integer index beginning at `start`.\n"
     ]
    },
    {
     "name": "stdout",
     "output_type": "stream",
     "text": [
      "ARIMA model for location 107 has been created! Time: 99.9517126083374\n",
      "Test MAE for location 107 was 45.52546052670813\n",
      "Starting to train model for location 108...\n"
     ]
    },
    {
     "name": "stderr",
     "output_type": "stream",
     "text": [
      "ValueWarning: No supported index is available. Prediction results will be given with an integer index beginning at `start`.\n"
     ]
    },
    {
     "name": "stdout",
     "output_type": "stream",
     "text": [
      "ARIMA model for location 108 has been created! Time: 9.01659345626831\n",
      "Test MAE for location 108 was 0.3211790277530285\n",
      "Starting to train model for location 109...\n",
      "ARIMA model for location 109 has been created! Time: 0.02950572967529297\n",
      "Test MAE for location 109 was 0.0\n",
      "Starting to train model for location 111...\n"
     ]
    },
    {
     "name": "stderr",
     "output_type": "stream",
     "text": [
      "ValueWarning: No supported index is available. Prediction results will be given with an integer index beginning at `start`.\n",
      "UserWarning: Input time-series is completely constant; returning a (0, 0, 0) ARMA.\n",
      "ValueWarning: No supported index is available. Prediction results will be given with an integer index beginning at `start`.\n"
     ]
    },
    {
     "name": "stdout",
     "output_type": "stream",
     "text": [
      "ARIMA model for location 111 has been created! Time: 3.463038444519043\n",
      "Test MAE for location 111 was 0.02158273381294964\n",
      "Starting to train model for location 112...\n"
     ]
    },
    {
     "name": "stderr",
     "output_type": "stream",
     "text": [
      "ValueWarning: No supported index is available. Prediction results will be given with an integer index beginning at `start`.\n"
     ]
    },
    {
     "name": "stdout",
     "output_type": "stream",
     "text": [
      "ARIMA model for location 112 has been created! Time: 36.60205912590027\n",
      "Test MAE for location 112 was 1.0661355437473221\n",
      "Starting to train model for location 113...\n"
     ]
    },
    {
     "name": "stderr",
     "output_type": "stream",
     "text": [
      "ValueWarning: No supported index is available. Prediction results will be given with an integer index beginning at `start`.\n"
     ]
    },
    {
     "name": "stdout",
     "output_type": "stream",
     "text": [
      "ARIMA model for location 113 has been created! Time: 204.95626497268677\n",
      "Test MAE for location 113 was 35.87893851004665\n",
      "Starting to train model for location 114...\n"
     ]
    },
    {
     "name": "stderr",
     "output_type": "stream",
     "text": [
      "ValueWarning: No supported index is available. Prediction results will be given with an integer index beginning at `start`.\n"
     ]
    },
    {
     "name": "stdout",
     "output_type": "stream",
     "text": [
      "ARIMA model for location 114 has been created! Time: 72.1179473400116\n",
      "Test MAE for location 114 was 51.977958470584376\n",
      "Starting to train model for location 115...\n"
     ]
    },
    {
     "name": "stderr",
     "output_type": "stream",
     "text": [
      "ValueWarning: No supported index is available. Prediction results will be given with an integer index beginning at `start`.\n"
     ]
    },
    {
     "name": "stdout",
     "output_type": "stream",
     "text": [
      "ARIMA model for location 115 has been created! Time: 4.503432989120483\n",
      "Test MAE for location 115 was 0.0071942446043165445\n",
      "Starting to train model for location 116...\n"
     ]
    },
    {
     "name": "stderr",
     "output_type": "stream",
     "text": [
      "ValueWarning: No supported index is available. Prediction results will be given with an integer index beginning at `start`.\n"
     ]
    },
    {
     "name": "stdout",
     "output_type": "stream",
     "text": [
      "ARIMA model for location 116 has been created! Time: 105.98840832710266\n",
      "Test MAE for location 116 was 3.0756839745909463\n",
      "Starting to train model for location 117...\n"
     ]
    },
    {
     "name": "stderr",
     "output_type": "stream",
     "text": [
      "ValueWarning: No supported index is available. Prediction results will be given with an integer index beginning at `start`.\n"
     ]
    },
    {
     "name": "stdout",
     "output_type": "stream",
     "text": [
      "ARIMA model for location 117 has been created! Time: 103.15532112121582\n",
      "Test MAE for location 117 was 0.6480954825963392\n",
      "Starting to train model for location 118...\n"
     ]
    },
    {
     "name": "stderr",
     "output_type": "stream",
     "text": [
      "ValueWarning: No supported index is available. Prediction results will be given with an integer index beginning at `start`.\n"
     ]
    },
    {
     "name": "stdout",
     "output_type": "stream",
     "text": [
      "ARIMA model for location 118 has been created! Time: 4.319098472595215\n",
      "Test MAE for location 118 was 0.007194244604316547\n",
      "Starting to train model for location 119...\n"
     ]
    },
    {
     "name": "stderr",
     "output_type": "stream",
     "text": [
      "ValueWarning: No supported index is available. Prediction results will be given with an integer index beginning at `start`.\n"
     ]
    },
    {
     "name": "stdout",
     "output_type": "stream",
     "text": [
      "ARIMA model for location 119 has been created! Time: 74.23346328735352\n",
      "Test MAE for location 119 was 0.5051216583888181\n",
      "Starting to train model for location 120...\n"
     ]
    },
    {
     "name": "stderr",
     "output_type": "stream",
     "text": [
      "ValueWarning: No supported index is available. Prediction results will be given with an integer index beginning at `start`.\n"
     ]
    },
    {
     "name": "stdout",
     "output_type": "stream",
     "text": [
      "ARIMA model for location 120 has been created! Time: 6.382964134216309\n",
      "Test MAE for location 120 was 0.026616117176846983\n",
      "Starting to train model for location 121...\n"
     ]
    },
    {
     "name": "stderr",
     "output_type": "stream",
     "text": [
      "ValueWarning: No supported index is available. Prediction results will be given with an integer index beginning at `start`.\n"
     ]
    },
    {
     "name": "stdout",
     "output_type": "stream",
     "text": [
      "ARIMA model for location 121 has been created! Time: 52.86039757728577\n",
      "Test MAE for location 121 was 0.5193735156442469\n",
      "Starting to train model for location 122...\n"
     ]
    },
    {
     "name": "stderr",
     "output_type": "stream",
     "text": [
      "ValueWarning: No supported index is available. Prediction results will be given with an integer index beginning at `start`.\n"
     ]
    },
    {
     "name": "stdout",
     "output_type": "stream",
     "text": [
      "ARIMA model for location 122 has been created! Time: 98.04374933242798\n",
      "Test MAE for location 122 was 0.23963961534827927\n",
      "Starting to train model for location 123...\n"
     ]
    },
    {
     "name": "stderr",
     "output_type": "stream",
     "text": [
      "ValueWarning: No supported index is available. Prediction results will be given with an integer index beginning at `start`.\n"
     ]
    },
    {
     "name": "stdout",
     "output_type": "stream",
     "text": [
      "ARIMA model for location 123 has been created! Time: 27.270978212356567\n",
      "Test MAE for location 123 was 0.4397719885867879\n",
      "Starting to train model for location 124...\n"
     ]
    },
    {
     "name": "stderr",
     "output_type": "stream",
     "text": [
      "ValueWarning: No supported index is available. Prediction results will be given with an integer index beginning at `start`.\n"
     ]
    },
    {
     "name": "stdout",
     "output_type": "stream",
     "text": [
      "ARIMA model for location 124 has been created! Time: 127.7822196483612\n",
      "Test MAE for location 124 was 0.34882146027231836\n",
      "Starting to train model for location 125...\n"
     ]
    },
    {
     "name": "stderr",
     "output_type": "stream",
     "text": [
      "ValueWarning: No supported index is available. Prediction results will be given with an integer index beginning at `start`.\n"
     ]
    },
    {
     "name": "stdout",
     "output_type": "stream",
     "text": [
      "ARIMA model for location 125 has been created! Time: 170.25082302093506\n",
      "Test MAE for location 125 was 11.028654138721805\n",
      "Starting to train model for location 126...\n"
     ]
    },
    {
     "name": "stderr",
     "output_type": "stream",
     "text": [
      "ValueWarning: No supported index is available. Prediction results will be given with an integer index beginning at `start`.\n"
     ]
    },
    {
     "name": "stdout",
     "output_type": "stream",
     "text": [
      "ARIMA model for location 126 has been created! Time: 50.76645493507385\n",
      "Test MAE for location 126 was 0.33263319586479667\n",
      "Starting to train model for location 127...\n"
     ]
    },
    {
     "name": "stderr",
     "output_type": "stream",
     "text": [
      "ValueWarning: No supported index is available. Prediction results will be given with an integer index beginning at `start`.\n"
     ]
    },
    {
     "name": "stdout",
     "output_type": "stream",
     "text": [
      "ARIMA model for location 127 has been created! Time: 58.2857620716095\n",
      "Test MAE for location 127 was 0.5991128812758074\n",
      "Starting to train model for location 128...\n"
     ]
    },
    {
     "name": "stderr",
     "output_type": "stream",
     "text": [
      "ValueWarning: No supported index is available. Prediction results will be given with an integer index beginning at `start`.\n"
     ]
    },
    {
     "name": "stdout",
     "output_type": "stream",
     "text": [
      "ARIMA model for location 128 has been created! Time: 9.540619134902954\n",
      "Test MAE for location 128 was 0.0682029915579059\n",
      "Starting to train model for location 129...\n"
     ]
    },
    {
     "name": "stderr",
     "output_type": "stream",
     "text": [
      "ValueWarning: No supported index is available. Prediction results will be given with an integer index beginning at `start`.\n"
     ]
    },
    {
     "name": "stdout",
     "output_type": "stream",
     "text": [
      "ARIMA model for location 129 has been created! Time: 27.07600426673889\n",
      "Test MAE for location 129 was 0.8710694992510245\n",
      "Starting to train model for location 130...\n"
     ]
    },
    {
     "name": "stderr",
     "output_type": "stream",
     "text": [
      "ValueWarning: No supported index is available. Prediction results will be given with an integer index beginning at `start`.\n"
     ]
    },
    {
     "name": "stdout",
     "output_type": "stream",
     "text": [
      "ARIMA model for location 130 has been created! Time: 25.613457441329956\n",
      "Test MAE for location 130 was 0.8548093454654394\n",
      "Starting to train model for location 131...\n"
     ]
    },
    {
     "name": "stderr",
     "output_type": "stream",
     "text": [
      "ValueWarning: No supported index is available. Prediction results will be given with an integer index beginning at `start`.\n"
     ]
    },
    {
     "name": "stdout",
     "output_type": "stream",
     "text": [
      "ARIMA model for location 131 has been created! Time: 187.673237323761\n",
      "Test MAE for location 131 was 0.42304638037561204\n",
      "Starting to train model for location 132...\n"
     ]
    },
    {
     "name": "stderr",
     "output_type": "stream",
     "text": [
      "ValueWarning: No supported index is available. Prediction results will be given with an integer index beginning at `start`.\n"
     ]
    },
    {
     "name": "stdout",
     "output_type": "stream",
     "text": [
      "ARIMA model for location 132 has been created! Time: 122.97167611122131\n",
      "Test MAE for location 132 was 35.93418846059782\n",
      "Starting to train model for location 133...\n"
     ]
    },
    {
     "name": "stderr",
     "output_type": "stream",
     "text": [
      "ValueWarning: No supported index is available. Prediction results will be given with an integer index beginning at `start`.\n"
     ]
    },
    {
     "name": "stdout",
     "output_type": "stream",
     "text": [
      "ARIMA model for location 133 has been created! Time: 35.36706900596619\n",
      "Test MAE for location 133 was 0.40779061739936956\n",
      "Starting to train model for location 134...\n"
     ]
    },
    {
     "name": "stderr",
     "output_type": "stream",
     "text": [
      "ValueWarning: No supported index is available. Prediction results will be given with an integer index beginning at `start`.\n"
     ]
    },
    {
     "name": "stdout",
     "output_type": "stream",
     "text": [
      "ARIMA model for location 134 has been created! Time: 34.4636070728302\n",
      "Test MAE for location 134 was 0.6821474845802926\n",
      "Starting to train model for location 135...\n"
     ]
    },
    {
     "name": "stderr",
     "output_type": "stream",
     "text": [
      "ValueWarning: No supported index is available. Prediction results will be given with an integer index beginning at `start`.\n"
     ]
    },
    {
     "name": "stdout",
     "output_type": "stream",
     "text": [
      "ARIMA model for location 135 has been created! Time: 56.8640570640564\n",
      "Test MAE for location 135 was 0.30588331344074504\n",
      "Starting to train model for location 136...\n"
     ]
    },
    {
     "name": "stderr",
     "output_type": "stream",
     "text": [
      "ValueWarning: No supported index is available. Prediction results will be given with an integer index beginning at `start`.\n"
     ]
    },
    {
     "name": "stdout",
     "output_type": "stream",
     "text": [
      "ARIMA model for location 136 has been created! Time: 36.4013192653656\n",
      "Test MAE for location 136 was 0.3313120481140601\n",
      "Starting to train model for location 137...\n"
     ]
    },
    {
     "name": "stderr",
     "output_type": "stream",
     "text": [
      "ValueWarning: No supported index is available. Prediction results will be given with an integer index beginning at `start`.\n"
     ]
    },
    {
     "name": "stdout",
     "output_type": "stream",
     "text": [
      "ARIMA model for location 137 has been created! Time: 81.0536196231842\n",
      "Test MAE for location 137 was 30.003426045925167\n",
      "Starting to train model for location 138...\n"
     ]
    },
    {
     "name": "stderr",
     "output_type": "stream",
     "text": [
      "ValueWarning: No supported index is available. Prediction results will be given with an integer index beginning at `start`.\n"
     ]
    },
    {
     "name": "stdout",
     "output_type": "stream",
     "text": [
      "ARIMA model for location 138 has been created! Time: 357.90471506118774\n",
      "Test MAE for location 138 was 48.28612282210057\n",
      "Starting to train model for location 139...\n"
     ]
    },
    {
     "name": "stderr",
     "output_type": "stream",
     "text": [
      "ValueWarning: No supported index is available. Prediction results will be given with an integer index beginning at `start`.\n"
     ]
    },
    {
     "name": "stdout",
     "output_type": "stream",
     "text": [
      "ARIMA model for location 139 has been created! Time: 25.0790057182312\n",
      "Test MAE for location 139 was 0.3943672974729\n",
      "Starting to train model for location 140...\n"
     ]
    },
    {
     "name": "stderr",
     "output_type": "stream",
     "text": [
      "ValueWarning: No supported index is available. Prediction results will be given with an integer index beginning at `start`.\n"
     ]
    },
    {
     "name": "stdout",
     "output_type": "stream",
     "text": [
      "ARIMA model for location 140 has been created! Time: 182.18490266799927\n",
      "Test MAE for location 140 was 58.73310470280323\n",
      "Starting to train model for location 141...\n"
     ]
    },
    {
     "name": "stderr",
     "output_type": "stream",
     "text": [
      "ValueWarning: No supported index is available. Prediction results will be given with an integer index beginning at `start`.\n"
     ]
    },
    {
     "name": "stdout",
     "output_type": "stream",
     "text": [
      "ARIMA model for location 141 has been created! Time: 158.89269161224365\n",
      "Test MAE for location 141 was 53.16815350107496\n",
      "Starting to train model for location 142...\n"
     ]
    },
    {
     "name": "stderr",
     "output_type": "stream",
     "text": [
      "ValueWarning: No supported index is available. Prediction results will be given with an integer index beginning at `start`.\n"
     ]
    },
    {
     "name": "stdout",
     "output_type": "stream",
     "text": [
      "ARIMA model for location 142 has been created! Time: 209.21269917488098\n",
      "Test MAE for location 142 was 61.3016455544937\n",
      "Starting to train model for location 143...\n"
     ]
    },
    {
     "name": "stderr",
     "output_type": "stream",
     "text": [
      "ValueWarning: No supported index is available. Prediction results will be given with an integer index beginning at `start`.\n"
     ]
    },
    {
     "name": "stdout",
     "output_type": "stream",
     "text": [
      "ARIMA model for location 143 has been created! Time: 83.89624285697937\n",
      "Test MAE for location 143 was 31.40820372471976\n",
      "Starting to train model for location 144...\n"
     ]
    },
    {
     "name": "stderr",
     "output_type": "stream",
     "text": [
      "ValueWarning: No supported index is available. Prediction results will be given with an integer index beginning at `start`.\n"
     ]
    },
    {
     "name": "stdout",
     "output_type": "stream",
     "text": [
      "ARIMA model for location 144 has been created! Time: 82.67295908927917\n",
      "Test MAE for location 144 was 30.50118827343253\n",
      "Starting to train model for location 145...\n"
     ]
    },
    {
     "name": "stderr",
     "output_type": "stream",
     "text": [
      "ValueWarning: No supported index is available. Prediction results will be given with an integer index beginning at `start`.\n"
     ]
    },
    {
     "name": "stdout",
     "output_type": "stream",
     "text": [
      "ARIMA model for location 145 has been created! Time: 77.31520128250122\n",
      "Test MAE for location 145 was 2.789055944558756\n",
      "Starting to train model for location 146...\n"
     ]
    },
    {
     "name": "stderr",
     "output_type": "stream",
     "text": [
      "ValueWarning: No supported index is available. Prediction results will be given with an integer index beginning at `start`.\n"
     ]
    },
    {
     "name": "stdout",
     "output_type": "stream",
     "text": [
      "ARIMA model for location 146 has been created! Time: 120.69760274887085\n",
      "Test MAE for location 146 was 1.3363586337487183\n",
      "Starting to train model for location 147...\n"
     ]
    },
    {
     "name": "stderr",
     "output_type": "stream",
     "text": [
      "ValueWarning: No supported index is available. Prediction results will be given with an integer index beginning at `start`.\n"
     ]
    },
    {
     "name": "stdout",
     "output_type": "stream",
     "text": [
      "ARIMA model for location 147 has been created! Time: 13.379911184310913\n",
      "Test MAE for location 147 was 0.26854200093162883\n",
      "Starting to train model for location 148...\n"
     ]
    },
    {
     "name": "stderr",
     "output_type": "stream",
     "text": [
      "ValueWarning: No supported index is available. Prediction results will be given with an integer index beginning at `start`.\n"
     ]
    },
    {
     "name": "stdout",
     "output_type": "stream",
     "text": [
      "ARIMA model for location 148 has been created! Time: 128.6021339893341\n",
      "Test MAE for location 148 was 40.791463940591264\n",
      "Starting to train model for location 149...\n"
     ]
    },
    {
     "name": "stderr",
     "output_type": "stream",
     "text": [
      "ValueWarning: No supported index is available. Prediction results will be given with an integer index beginning at `start`.\n"
     ]
    },
    {
     "name": "stdout",
     "output_type": "stream",
     "text": [
      "ARIMA model for location 149 has been created! Time: 218.34491276741028\n",
      "Test MAE for location 149 was 0.3223655979337708\n",
      "Starting to train model for location 150...\n"
     ]
    },
    {
     "name": "stderr",
     "output_type": "stream",
     "text": [
      "ValueWarning: No supported index is available. Prediction results will be given with an integer index beginning at `start`.\n"
     ]
    },
    {
     "name": "stdout",
     "output_type": "stream",
     "text": [
      "ARIMA model for location 150 has been created! Time: 19.328715085983276\n",
      "Test MAE for location 150 was 0.17621992163832884\n",
      "Starting to train model for location 151...\n"
     ]
    },
    {
     "name": "stderr",
     "output_type": "stream",
     "text": [
      "ValueWarning: No supported index is available. Prediction results will be given with an integer index beginning at `start`.\n"
     ]
    },
    {
     "name": "stdout",
     "output_type": "stream",
     "text": [
      "ARIMA model for location 151 has been created! Time: 129.187153339386\n",
      "Test MAE for location 151 was 17.198530051115192\n",
      "Starting to train model for location 152...\n"
     ]
    },
    {
     "name": "stderr",
     "output_type": "stream",
     "text": [
      "ValueWarning: No supported index is available. Prediction results will be given with an integer index beginning at `start`.\n"
     ]
    },
    {
     "name": "stdout",
     "output_type": "stream",
     "text": [
      "ARIMA model for location 152 has been created! Time: 195.16546392440796\n",
      "Test MAE for location 152 was 2.639247946045391\n",
      "Starting to train model for location 153...\n"
     ]
    },
    {
     "name": "stderr",
     "output_type": "stream",
     "text": [
      "ValueWarning: No supported index is available. Prediction results will be given with an integer index beginning at `start`.\n"
     ]
    },
    {
     "name": "stdout",
     "output_type": "stream",
     "text": [
      "ARIMA model for location 153 has been created! Time: 25.202792167663574\n",
      "Test MAE for location 153 was 0.13822362710055205\n",
      "Starting to train model for location 154...\n"
     ]
    },
    {
     "name": "stderr",
     "output_type": "stream",
     "text": [
      "ValueWarning: No supported index is available. Prediction results will be given with an integer index beginning at `start`.\n"
     ]
    },
    {
     "name": "stdout",
     "output_type": "stream",
     "text": [
      "ARIMA model for location 154 has been created! Time: 8.202049493789673\n",
      "Test MAE for location 154 was 0.11803219294547658\n",
      "Starting to train model for location 155...\n"
     ]
    },
    {
     "name": "stderr",
     "output_type": "stream",
     "text": [
      "ValueWarning: No supported index is available. Prediction results will be given with an integer index beginning at `start`.\n"
     ]
    },
    {
     "name": "stdout",
     "output_type": "stream",
     "text": [
      "ARIMA model for location 155 has been created! Time: 135.7608859539032\n",
      "Test MAE for location 155 was 0.5800669619335724\n",
      "Starting to train model for location 156...\n",
      "ARIMA model for location 156 has been created! Time: 0.07958006858825684\n",
      "Test MAE for location 156 was 0.0\n",
      "Starting to train model for location 157...\n"
     ]
    },
    {
     "name": "stderr",
     "output_type": "stream",
     "text": [
      "ValueWarning: No supported index is available. Prediction results will be given with an integer index beginning at `start`.\n",
      "UserWarning: Input time-series is completely constant; returning a (0, 0, 0) ARMA.\n",
      "ValueWarning: No supported index is available. Prediction results will be given with an integer index beginning at `start`.\n"
     ]
    },
    {
     "name": "stdout",
     "output_type": "stream",
     "text": [
      "ARIMA model for location 157 has been created! Time: 17.936073780059814\n",
      "Test MAE for location 157 was 0.7962871913155014\n",
      "Starting to train model for location 158...\n"
     ]
    },
    {
     "name": "stderr",
     "output_type": "stream",
     "text": [
      "ValueWarning: No supported index is available. Prediction results will be given with an integer index beginning at `start`.\n"
     ]
    },
    {
     "name": "stdout",
     "output_type": "stream",
     "text": [
      "ARIMA model for location 158 has been created! Time: 53.294631481170654\n",
      "Test MAE for location 158 was 26.04959794527705\n",
      "Starting to train model for location 159...\n"
     ]
    },
    {
     "name": "stderr",
     "output_type": "stream",
     "text": [
      "ValueWarning: No supported index is available. Prediction results will be given with an integer index beginning at `start`.\n"
     ]
    },
    {
     "name": "stdout",
     "output_type": "stream",
     "text": [
      "ARIMA model for location 159 has been created! Time: 126.78769898414612\n",
      "Test MAE for location 159 was 0.6440438610457958\n",
      "Starting to train model for location 160...\n"
     ]
    },
    {
     "name": "stderr",
     "output_type": "stream",
     "text": [
      "ValueWarning: No supported index is available. Prediction results will be given with an integer index beginning at `start`.\n"
     ]
    },
    {
     "name": "stdout",
     "output_type": "stream",
     "text": [
      "ARIMA model for location 160 has been created! Time: 16.760437965393066\n",
      "Test MAE for location 160 was 0.2692696776578132\n",
      "Starting to train model for location 161...\n"
     ]
    },
    {
     "name": "stderr",
     "output_type": "stream",
     "text": [
      "ValueWarning: No supported index is available. Prediction results will be given with an integer index beginning at `start`.\n"
     ]
    }
   ],
   "source": [
    "from pmdarima import auto_arima\n",
    "import time\n",
    "from sklearn.metrics import mean_absolute_error\n",
    "import warnings\n",
    "\n",
    "warnings.filterwarnings(action='ignore', category=FutureWarning)\n",
    "\n",
    "locations = filtered_ts_data[\"pickup_location_id\"].unique()\n",
    "\n",
    "models = {}\n",
    "model_maes = {}\n",
    "for location in locations:\n",
    "    t_start = time.time()\n",
    "    location_data = filtered_ts_data[filtered_ts_data[\"pickup_location_id\"] == location]\n",
    "\n",
    "    train_size = int(len(location_data) * 0.8)\n",
    "    train, test = location_data['rides'][:train_size], location_data[\"rides\"][train_size:]\n",
    "    print(f\"Starting to train model for location {location}...\")\n",
    "    model = auto_arima(train,\n",
    "                       start_P=1, start_q=1, max_p=5,\n",
    "                       seasonal=True,\n",
    "                       stepwise=True,\n",
    "                       m=24)\n",
    "    models[location] = model\n",
    "    t_end = time.time()\n",
    "    print(f\"ARIMA model for location {location} has been created! Time: {t_end - t_start}\")\n",
    "\n",
    "    predictions = model.predict(n_periods = int(len(test)))\n",
    "    mae = mean_absolute_error(test, predictions)\n",
    "    model_maes[location] = mae\n",
    "    print(f\"Test MAE for location {location} was {mae}\")"
   ]
  }
 ],
 "metadata": {
  "kernelspec": {
   "display_name": "sp25_taxi",
   "language": "python",
   "name": "python3"
  },
  "language_info": {
   "codemirror_mode": {
    "name": "ipython",
    "version": 3
   },
   "file_extension": ".py",
   "mimetype": "text/x-python",
   "name": "python",
   "nbconvert_exporter": "python",
   "pygments_lexer": "ipython3",
   "version": "3.11.11"
  }
 },
 "nbformat": 4,
 "nbformat_minor": 2
}
