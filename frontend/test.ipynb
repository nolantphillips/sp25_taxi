{
 "cells": [
  {
   "cell_type": "code",
   "execution_count": 1,
   "metadata": {},
   "outputs": [
    {
     "name": "stderr",
     "output_type": "stream",
     "text": [
      "c:\\Users\\nolan\\anaconda3\\envs\\sp25_taxi\\Lib\\site-packages\\tqdm\\auto.py:21: TqdmWarning: IProgress not found. Please update jupyter and ipywidgets. See https://ipywidgets.readthedocs.io/en/stable/user_install.html\n",
      "  from .autonotebook import tqdm as notebook_tqdm\n"
     ]
    }
   ],
   "source": [
    "import pandas as pd\n",
    "\n",
    "import sys\n",
    "import os\n",
    "\n",
    "# Add the parent directory to the Python path\n",
    "sys.path.append(os.path.abspath(os.path.join(os.getcwd(), \"..\")))\n",
    "\n",
    "from src.inference import load_batch_of_features_from_store, fetch_next_hour_predictions"
   ]
  },
  {
   "cell_type": "code",
   "execution_count": 14,
   "metadata": {},
   "outputs": [
    {
     "name": "stdout",
     "output_type": "stream",
     "text": [
      "2025-03-02 23:14:02,160 INFO: Closing external client and cleaning up certificates.\n",
      "Connection closed.\n",
      "2025-03-02 23:14:02,183 INFO: Initializing external client\n",
      "2025-03-02 23:14:02,184 INFO: Base URL: https://c.app.hopsworks.ai:443\n",
      "2025-03-02 23:14:02,989 INFO: Python Engine initialized.\n",
      "\n",
      "Logged in to project, explore it here https://c.app.hopsworks.ai:443/p/1212635\n",
      "Fetching data from 2025-02-01 23:14:02.160954-05:00 to 2025-03-02 22:14:02.160954-05:00\n",
      "Finished: Reading data from Hopsworks, using Hopsworks Feature Query Service (14.61s) \n",
      "Skipping location_id 99: Not enough data to create even one window.\n"
     ]
    }
   ],
   "source": [
    "current_date = pd.Timestamp.now(tz=\"US/Eastern\")\n",
    "features = load_batch_of_features_from_store(current_date)"
   ]
  },
  {
   "cell_type": "code",
   "execution_count": 9,
   "metadata": {},
   "outputs": [
    {
     "data": {
      "text/html": [
       "<div>\n",
       "<style scoped>\n",
       "    .dataframe tbody tr th:only-of-type {\n",
       "        vertical-align: middle;\n",
       "    }\n",
       "\n",
       "    .dataframe tbody tr th {\n",
       "        vertical-align: top;\n",
       "    }\n",
       "\n",
       "    .dataframe thead th {\n",
       "        text-align: right;\n",
       "    }\n",
       "</style>\n",
       "<table border=\"1\" class=\"dataframe\">\n",
       "  <thead>\n",
       "    <tr style=\"text-align: right;\">\n",
       "      <th></th>\n",
       "      <th>rides_t-672</th>\n",
       "      <th>rides_t-671</th>\n",
       "      <th>rides_t-670</th>\n",
       "      <th>rides_t-669</th>\n",
       "      <th>rides_t-668</th>\n",
       "      <th>rides_t-667</th>\n",
       "      <th>rides_t-666</th>\n",
       "      <th>rides_t-665</th>\n",
       "      <th>rides_t-664</th>\n",
       "      <th>rides_t-663</th>\n",
       "      <th>...</th>\n",
       "      <th>rides_t-8</th>\n",
       "      <th>rides_t-7</th>\n",
       "      <th>rides_t-6</th>\n",
       "      <th>rides_t-5</th>\n",
       "      <th>rides_t-4</th>\n",
       "      <th>rides_t-3</th>\n",
       "      <th>rides_t-2</th>\n",
       "      <th>rides_t-1</th>\n",
       "      <th>pickup_hour</th>\n",
       "      <th>pickup_location_id</th>\n",
       "    </tr>\n",
       "  </thead>\n",
       "  <tbody>\n",
       "    <tr>\n",
       "      <th>0</th>\n",
       "      <td>0</td>\n",
       "      <td>0</td>\n",
       "      <td>0</td>\n",
       "      <td>0</td>\n",
       "      <td>0</td>\n",
       "      <td>0</td>\n",
       "      <td>0</td>\n",
       "      <td>0</td>\n",
       "      <td>0</td>\n",
       "      <td>0</td>\n",
       "      <td>...</td>\n",
       "      <td>0</td>\n",
       "      <td>0</td>\n",
       "      <td>0</td>\n",
       "      <td>0</td>\n",
       "      <td>0</td>\n",
       "      <td>0</td>\n",
       "      <td>0</td>\n",
       "      <td>0</td>\n",
       "      <td>2025-03-02 04:00:00</td>\n",
       "      <td>2</td>\n",
       "    </tr>\n",
       "    <tr>\n",
       "      <th>1</th>\n",
       "      <td>0</td>\n",
       "      <td>0</td>\n",
       "      <td>0</td>\n",
       "      <td>0</td>\n",
       "      <td>0</td>\n",
       "      <td>0</td>\n",
       "      <td>0</td>\n",
       "      <td>0</td>\n",
       "      <td>0</td>\n",
       "      <td>0</td>\n",
       "      <td>...</td>\n",
       "      <td>0</td>\n",
       "      <td>0</td>\n",
       "      <td>0</td>\n",
       "      <td>0</td>\n",
       "      <td>0</td>\n",
       "      <td>0</td>\n",
       "      <td>0</td>\n",
       "      <td>0</td>\n",
       "      <td>2025-03-02 04:00:00</td>\n",
       "      <td>3</td>\n",
       "    </tr>\n",
       "    <tr>\n",
       "      <th>2</th>\n",
       "      <td>0</td>\n",
       "      <td>0</td>\n",
       "      <td>0</td>\n",
       "      <td>0</td>\n",
       "      <td>0</td>\n",
       "      <td>0</td>\n",
       "      <td>0</td>\n",
       "      <td>0</td>\n",
       "      <td>0</td>\n",
       "      <td>0</td>\n",
       "      <td>...</td>\n",
       "      <td>4</td>\n",
       "      <td>11</td>\n",
       "      <td>14</td>\n",
       "      <td>50</td>\n",
       "      <td>68</td>\n",
       "      <td>62</td>\n",
       "      <td>65</td>\n",
       "      <td>43</td>\n",
       "      <td>2025-03-02 04:00:00</td>\n",
       "      <td>4</td>\n",
       "    </tr>\n",
       "    <tr>\n",
       "      <th>3</th>\n",
       "      <td>0</td>\n",
       "      <td>0</td>\n",
       "      <td>0</td>\n",
       "      <td>0</td>\n",
       "      <td>0</td>\n",
       "      <td>0</td>\n",
       "      <td>0</td>\n",
       "      <td>0</td>\n",
       "      <td>0</td>\n",
       "      <td>0</td>\n",
       "      <td>...</td>\n",
       "      <td>0</td>\n",
       "      <td>0</td>\n",
       "      <td>0</td>\n",
       "      <td>0</td>\n",
       "      <td>0</td>\n",
       "      <td>0</td>\n",
       "      <td>0</td>\n",
       "      <td>0</td>\n",
       "      <td>2025-03-02 04:00:00</td>\n",
       "      <td>6</td>\n",
       "    </tr>\n",
       "    <tr>\n",
       "      <th>4</th>\n",
       "      <td>0</td>\n",
       "      <td>0</td>\n",
       "      <td>0</td>\n",
       "      <td>0</td>\n",
       "      <td>0</td>\n",
       "      <td>0</td>\n",
       "      <td>0</td>\n",
       "      <td>0</td>\n",
       "      <td>0</td>\n",
       "      <td>0</td>\n",
       "      <td>...</td>\n",
       "      <td>3</td>\n",
       "      <td>2</td>\n",
       "      <td>1</td>\n",
       "      <td>2</td>\n",
       "      <td>3</td>\n",
       "      <td>1</td>\n",
       "      <td>1</td>\n",
       "      <td>3</td>\n",
       "      <td>2025-03-02 04:00:00</td>\n",
       "      <td>7</td>\n",
       "    </tr>\n",
       "    <tr>\n",
       "      <th>...</th>\n",
       "      <td>...</td>\n",
       "      <td>...</td>\n",
       "      <td>...</td>\n",
       "      <td>...</td>\n",
       "      <td>...</td>\n",
       "      <td>...</td>\n",
       "      <td>...</td>\n",
       "      <td>...</td>\n",
       "      <td>...</td>\n",
       "      <td>...</td>\n",
       "      <td>...</td>\n",
       "      <td>...</td>\n",
       "      <td>...</td>\n",
       "      <td>...</td>\n",
       "      <td>...</td>\n",
       "      <td>...</td>\n",
       "      <td>...</td>\n",
       "      <td>...</td>\n",
       "      <td>...</td>\n",
       "      <td>...</td>\n",
       "      <td>...</td>\n",
       "    </tr>\n",
       "    <tr>\n",
       "      <th>251</th>\n",
       "      <td>0</td>\n",
       "      <td>0</td>\n",
       "      <td>0</td>\n",
       "      <td>0</td>\n",
       "      <td>0</td>\n",
       "      <td>0</td>\n",
       "      <td>0</td>\n",
       "      <td>0</td>\n",
       "      <td>0</td>\n",
       "      <td>0</td>\n",
       "      <td>...</td>\n",
       "      <td>0</td>\n",
       "      <td>0</td>\n",
       "      <td>0</td>\n",
       "      <td>0</td>\n",
       "      <td>0</td>\n",
       "      <td>0</td>\n",
       "      <td>0</td>\n",
       "      <td>0</td>\n",
       "      <td>2025-03-02 04:00:00</td>\n",
       "      <td>259</td>\n",
       "    </tr>\n",
       "    <tr>\n",
       "      <th>252</th>\n",
       "      <td>0</td>\n",
       "      <td>0</td>\n",
       "      <td>0</td>\n",
       "      <td>0</td>\n",
       "      <td>0</td>\n",
       "      <td>0</td>\n",
       "      <td>0</td>\n",
       "      <td>0</td>\n",
       "      <td>0</td>\n",
       "      <td>0</td>\n",
       "      <td>...</td>\n",
       "      <td>1</td>\n",
       "      <td>1</td>\n",
       "      <td>0</td>\n",
       "      <td>1</td>\n",
       "      <td>0</td>\n",
       "      <td>0</td>\n",
       "      <td>0</td>\n",
       "      <td>0</td>\n",
       "      <td>2025-03-02 04:00:00</td>\n",
       "      <td>260</td>\n",
       "    </tr>\n",
       "    <tr>\n",
       "      <th>253</th>\n",
       "      <td>0</td>\n",
       "      <td>0</td>\n",
       "      <td>0</td>\n",
       "      <td>0</td>\n",
       "      <td>0</td>\n",
       "      <td>0</td>\n",
       "      <td>0</td>\n",
       "      <td>0</td>\n",
       "      <td>0</td>\n",
       "      <td>0</td>\n",
       "      <td>...</td>\n",
       "      <td>23</td>\n",
       "      <td>20</td>\n",
       "      <td>11</td>\n",
       "      <td>14</td>\n",
       "      <td>7</td>\n",
       "      <td>12</td>\n",
       "      <td>7</td>\n",
       "      <td>10</td>\n",
       "      <td>2025-03-02 04:00:00</td>\n",
       "      <td>261</td>\n",
       "    </tr>\n",
       "    <tr>\n",
       "      <th>254</th>\n",
       "      <td>0</td>\n",
       "      <td>0</td>\n",
       "      <td>0</td>\n",
       "      <td>0</td>\n",
       "      <td>0</td>\n",
       "      <td>0</td>\n",
       "      <td>0</td>\n",
       "      <td>0</td>\n",
       "      <td>0</td>\n",
       "      <td>0</td>\n",
       "      <td>...</td>\n",
       "      <td>58</td>\n",
       "      <td>26</td>\n",
       "      <td>28</td>\n",
       "      <td>18</td>\n",
       "      <td>7</td>\n",
       "      <td>5</td>\n",
       "      <td>5</td>\n",
       "      <td>2</td>\n",
       "      <td>2025-03-02 04:00:00</td>\n",
       "      <td>262</td>\n",
       "    </tr>\n",
       "    <tr>\n",
       "      <th>255</th>\n",
       "      <td>0</td>\n",
       "      <td>0</td>\n",
       "      <td>0</td>\n",
       "      <td>0</td>\n",
       "      <td>0</td>\n",
       "      <td>0</td>\n",
       "      <td>0</td>\n",
       "      <td>0</td>\n",
       "      <td>0</td>\n",
       "      <td>0</td>\n",
       "      <td>...</td>\n",
       "      <td>140</td>\n",
       "      <td>154</td>\n",
       "      <td>137</td>\n",
       "      <td>90</td>\n",
       "      <td>82</td>\n",
       "      <td>49</td>\n",
       "      <td>41</td>\n",
       "      <td>29</td>\n",
       "      <td>2025-03-02 04:00:00</td>\n",
       "      <td>263</td>\n",
       "    </tr>\n",
       "  </tbody>\n",
       "</table>\n",
       "<p>256 rows × 674 columns</p>\n",
       "</div>"
      ],
      "text/plain": [
       "     rides_t-672  rides_t-671  rides_t-670  rides_t-669  rides_t-668  \\\n",
       "0              0            0            0            0            0   \n",
       "1              0            0            0            0            0   \n",
       "2              0            0            0            0            0   \n",
       "3              0            0            0            0            0   \n",
       "4              0            0            0            0            0   \n",
       "..           ...          ...          ...          ...          ...   \n",
       "251            0            0            0            0            0   \n",
       "252            0            0            0            0            0   \n",
       "253            0            0            0            0            0   \n",
       "254            0            0            0            0            0   \n",
       "255            0            0            0            0            0   \n",
       "\n",
       "     rides_t-667  rides_t-666  rides_t-665  rides_t-664  rides_t-663  ...  \\\n",
       "0              0            0            0            0            0  ...   \n",
       "1              0            0            0            0            0  ...   \n",
       "2              0            0            0            0            0  ...   \n",
       "3              0            0            0            0            0  ...   \n",
       "4              0            0            0            0            0  ...   \n",
       "..           ...          ...          ...          ...          ...  ...   \n",
       "251            0            0            0            0            0  ...   \n",
       "252            0            0            0            0            0  ...   \n",
       "253            0            0            0            0            0  ...   \n",
       "254            0            0            0            0            0  ...   \n",
       "255            0            0            0            0            0  ...   \n",
       "\n",
       "     rides_t-8  rides_t-7  rides_t-6  rides_t-5  rides_t-4  rides_t-3  \\\n",
       "0            0          0          0          0          0          0   \n",
       "1            0          0          0          0          0          0   \n",
       "2            4         11         14         50         68         62   \n",
       "3            0          0          0          0          0          0   \n",
       "4            3          2          1          2          3          1   \n",
       "..         ...        ...        ...        ...        ...        ...   \n",
       "251          0          0          0          0          0          0   \n",
       "252          1          1          0          1          0          0   \n",
       "253         23         20         11         14          7         12   \n",
       "254         58         26         28         18          7          5   \n",
       "255        140        154        137         90         82         49   \n",
       "\n",
       "     rides_t-2  rides_t-1         pickup_hour  pickup_location_id  \n",
       "0            0          0 2025-03-02 04:00:00                   2  \n",
       "1            0          0 2025-03-02 04:00:00                   3  \n",
       "2           65         43 2025-03-02 04:00:00                   4  \n",
       "3            0          0 2025-03-02 04:00:00                   6  \n",
       "4            1          3 2025-03-02 04:00:00                   7  \n",
       "..         ...        ...                 ...                 ...  \n",
       "251          0          0 2025-03-02 04:00:00                 259  \n",
       "252          0          0 2025-03-02 04:00:00                 260  \n",
       "253          7         10 2025-03-02 04:00:00                 261  \n",
       "254          5          2 2025-03-02 04:00:00                 262  \n",
       "255         41         29 2025-03-02 04:00:00                 263  \n",
       "\n",
       "[256 rows x 674 columns]"
      ]
     },
     "execution_count": 9,
     "metadata": {},
     "output_type": "execute_result"
    }
   ],
   "source": [
    "features"
   ]
  },
  {
   "cell_type": "code",
   "execution_count": 2,
   "metadata": {},
   "outputs": [
    {
     "name": "stdout",
     "output_type": "stream",
     "text": [
      "2025-03-02 23:02:54,425 INFO: Initializing external client\n",
      "2025-03-02 23:02:54,425 INFO: Base URL: https://c.app.hopsworks.ai:443\n",
      "2025-03-02 23:02:55,539 INFO: Python Engine initialized.\n",
      "\n",
      "Logged in to project, explore it here https://c.app.hopsworks.ai:443/p/1212635\n",
      "Finished: Reading data from Hopsworks, using Hopsworks Feature Query Service (0.38s) \n",
      "Current EST time: 2025-03-02 23:02:54.423176\n",
      "Next hour: 2025-03-02 23:00:00\n",
      "Found 256 records\n"
     ]
    }
   ],
   "source": [
    "predictions = fetch_next_hour_predictions()"
   ]
  },
  {
   "cell_type": "code",
   "execution_count": null,
   "metadata": {},
   "outputs": [
    {
     "name": "stdout",
     "output_type": "stream",
     "text": [
      "2025-03-02 22:42:06,637 INFO: Closing external client and cleaning up certificates.\n",
      "Connection closed.\n",
      "2025-03-02 22:42:06,661 INFO: Initializing external client\n",
      "2025-03-02 22:42:06,662 INFO: Base URL: https://c.app.hopsworks.ai:443\n"
     ]
    },
    {
     "name": "stderr",
     "output_type": "stream",
     "text": [
      "InsecureRequestWarning: Unverified HTTPS request is being made to host 'c.app.hopsworks.ai'. Adding certificate verification is strongly advised. See: https://urllib3.readthedocs.io/en/latest/advanced-usage.html#tls-warnings\n"
     ]
    },
    {
     "name": "stdout",
     "output_type": "stream",
     "text": [
      "2025-03-02 22:42:07,644 INFO: Python Engine initialized.\n",
      "\n",
      "Logged in to project, explore it here https://c.app.hopsworks.ai:443/p/1212635\n",
      "Finished: Reading data from Hopsworks, using Hopsworks Feature Query Service (0.44s) \n"
     ]
    }
   ],
   "source": [
    "import hopsworks\n",
    "from src import config as config\n",
    "from datetime import datetime, timedelta\n",
    "from src.inference import get_feature_store\n",
    "\n",
    "now = datetime.now()\n",
    "next_hour = (now + timedelta(hours=1)).replace(minute=0, second=0, microsecond=0)\n",
    "\n",
    "fs = get_feature_store()\n",
    "fg = fs.get_feature_group(name=config.FEATURE_GROUP_MODEL_PREDICTION, version=1)\n",
    "df = fg.read()\n",
    "\n",
    "df[\"pickup_hour\"] = df[\"pickup_hour\"].dt.tz_convert(\"US/Eastern\")"
   ]
  },
  {
   "cell_type": "code",
   "execution_count": 35,
   "metadata": {},
   "outputs": [
    {
     "data": {
      "text/plain": [
       "datetime.datetime(2025, 3, 2, 23, 0)"
      ]
     },
     "execution_count": 35,
     "metadata": {},
     "output_type": "execute_result"
    }
   ],
   "source": [
    "next_hour"
   ]
  },
  {
   "cell_type": "code",
   "execution_count": 46,
   "metadata": {},
   "outputs": [],
   "source": [
    "df[\"pickup_hour\"] = df[\"pickup_hour\"].dt.tz_localize(None)"
   ]
  },
  {
   "cell_type": "code",
   "execution_count": 47,
   "metadata": {},
   "outputs": [
    {
     "data": {
      "text/html": [
       "<div>\n",
       "<style scoped>\n",
       "    .dataframe tbody tr th:only-of-type {\n",
       "        vertical-align: middle;\n",
       "    }\n",
       "\n",
       "    .dataframe tbody tr th {\n",
       "        vertical-align: top;\n",
       "    }\n",
       "\n",
       "    .dataframe thead th {\n",
       "        text-align: right;\n",
       "    }\n",
       "</style>\n",
       "<table border=\"1\" class=\"dataframe\">\n",
       "  <thead>\n",
       "    <tr style=\"text-align: right;\">\n",
       "      <th></th>\n",
       "      <th>pickup_location_id</th>\n",
       "      <th>predicted_demand</th>\n",
       "      <th>pickup_hour</th>\n",
       "    </tr>\n",
       "  </thead>\n",
       "  <tbody>\n",
       "    <tr>\n",
       "      <th>0</th>\n",
       "      <td>190</td>\n",
       "      <td>0.0</td>\n",
       "      <td>2025-03-02 21:00:00</td>\n",
       "    </tr>\n",
       "    <tr>\n",
       "      <th>1</th>\n",
       "      <td>18</td>\n",
       "      <td>0.0</td>\n",
       "      <td>2025-03-02 21:00:00</td>\n",
       "    </tr>\n",
       "    <tr>\n",
       "      <th>2</th>\n",
       "      <td>150</td>\n",
       "      <td>0.0</td>\n",
       "      <td>2025-03-02 21:00:00</td>\n",
       "    </tr>\n",
       "    <tr>\n",
       "      <th>3</th>\n",
       "      <td>113</td>\n",
       "      <td>1.0</td>\n",
       "      <td>2025-03-02 21:00:00</td>\n",
       "    </tr>\n",
       "    <tr>\n",
       "      <th>4</th>\n",
       "      <td>106</td>\n",
       "      <td>0.0</td>\n",
       "      <td>2025-03-02 21:00:00</td>\n",
       "    </tr>\n",
       "    <tr>\n",
       "      <th>...</th>\n",
       "      <td>...</td>\n",
       "      <td>...</td>\n",
       "      <td>...</td>\n",
       "    </tr>\n",
       "    <tr>\n",
       "      <th>763</th>\n",
       "      <td>207</td>\n",
       "      <td>1.0</td>\n",
       "      <td>2025-03-02 23:00:00</td>\n",
       "    </tr>\n",
       "    <tr>\n",
       "      <th>764</th>\n",
       "      <td>148</td>\n",
       "      <td>42.0</td>\n",
       "      <td>2025-03-02 23:00:00</td>\n",
       "    </tr>\n",
       "    <tr>\n",
       "      <th>765</th>\n",
       "      <td>95</td>\n",
       "      <td>1.0</td>\n",
       "      <td>2025-03-02 23:00:00</td>\n",
       "    </tr>\n",
       "    <tr>\n",
       "      <th>766</th>\n",
       "      <td>61</td>\n",
       "      <td>1.0</td>\n",
       "      <td>2025-03-02 23:00:00</td>\n",
       "    </tr>\n",
       "    <tr>\n",
       "      <th>767</th>\n",
       "      <td>13</td>\n",
       "      <td>25.0</td>\n",
       "      <td>2025-03-02 23:00:00</td>\n",
       "    </tr>\n",
       "  </tbody>\n",
       "</table>\n",
       "<p>768 rows × 3 columns</p>\n",
       "</div>"
      ],
      "text/plain": [
       "     pickup_location_id  predicted_demand         pickup_hour\n",
       "0                   190               0.0 2025-03-02 21:00:00\n",
       "1                    18               0.0 2025-03-02 21:00:00\n",
       "2                   150               0.0 2025-03-02 21:00:00\n",
       "3                   113               1.0 2025-03-02 21:00:00\n",
       "4                   106               0.0 2025-03-02 21:00:00\n",
       "..                  ...               ...                 ...\n",
       "763                 207               1.0 2025-03-02 23:00:00\n",
       "764                 148              42.0 2025-03-02 23:00:00\n",
       "765                  95               1.0 2025-03-02 23:00:00\n",
       "766                  61               1.0 2025-03-02 23:00:00\n",
       "767                  13              25.0 2025-03-02 23:00:00\n",
       "\n",
       "[768 rows x 3 columns]"
      ]
     },
     "execution_count": 47,
     "metadata": {},
     "output_type": "execute_result"
    }
   ],
   "source": [
    "df"
   ]
  },
  {
   "cell_type": "code",
   "execution_count": 36,
   "metadata": {},
   "outputs": [],
   "source": [
    "df_copy = df.copy()"
   ]
  },
  {
   "cell_type": "code",
   "execution_count": 45,
   "metadata": {},
   "outputs": [],
   "source": [
    "df = df_copy"
   ]
  },
  {
   "cell_type": "code",
   "execution_count": 42,
   "metadata": {},
   "outputs": [
    {
     "name": "stdout",
     "output_type": "stream",
     "text": [
      "<class 'pandas.core.frame.DataFrame'>\n",
      "RangeIndex: 768 entries, 0 to 767\n",
      "Data columns (total 3 columns):\n",
      " #   Column              Non-Null Count  Dtype                     \n",
      "---  ------              --------------  -----                     \n",
      " 0   pickup_location_id  768 non-null    int32                     \n",
      " 1   predicted_demand    768 non-null    float64                   \n",
      " 2   pickup_hour         768 non-null    datetime64[us, US/Eastern]\n",
      "dtypes: datetime64[us, US/Eastern](1), float64(1), int32(1)\n",
      "memory usage: 15.1 KB\n"
     ]
    }
   ],
   "source": [
    "df.info()"
   ]
  },
  {
   "cell_type": "code",
   "execution_count": 39,
   "metadata": {},
   "outputs": [
    {
     "data": {
      "text/html": [
       "<div>\n",
       "<style scoped>\n",
       "    .dataframe tbody tr th:only-of-type {\n",
       "        vertical-align: middle;\n",
       "    }\n",
       "\n",
       "    .dataframe tbody tr th {\n",
       "        vertical-align: top;\n",
       "    }\n",
       "\n",
       "    .dataframe thead th {\n",
       "        text-align: right;\n",
       "    }\n",
       "</style>\n",
       "<table border=\"1\" class=\"dataframe\">\n",
       "  <thead>\n",
       "    <tr style=\"text-align: right;\">\n",
       "      <th></th>\n",
       "      <th>pickup_location_id</th>\n",
       "      <th>predicted_demand</th>\n",
       "      <th>pickup_hour</th>\n",
       "    </tr>\n",
       "  </thead>\n",
       "  <tbody>\n",
       "    <tr>\n",
       "      <th>0</th>\n",
       "      <td>190</td>\n",
       "      <td>0.0</td>\n",
       "      <td>2025-03-02 21:00:00-05:00</td>\n",
       "    </tr>\n",
       "    <tr>\n",
       "      <th>1</th>\n",
       "      <td>18</td>\n",
       "      <td>0.0</td>\n",
       "      <td>2025-03-02 21:00:00-05:00</td>\n",
       "    </tr>\n",
       "    <tr>\n",
       "      <th>2</th>\n",
       "      <td>150</td>\n",
       "      <td>0.0</td>\n",
       "      <td>2025-03-02 21:00:00-05:00</td>\n",
       "    </tr>\n",
       "    <tr>\n",
       "      <th>3</th>\n",
       "      <td>113</td>\n",
       "      <td>1.0</td>\n",
       "      <td>2025-03-02 21:00:00-05:00</td>\n",
       "    </tr>\n",
       "    <tr>\n",
       "      <th>4</th>\n",
       "      <td>106</td>\n",
       "      <td>0.0</td>\n",
       "      <td>2025-03-02 21:00:00-05:00</td>\n",
       "    </tr>\n",
       "    <tr>\n",
       "      <th>...</th>\n",
       "      <td>...</td>\n",
       "      <td>...</td>\n",
       "      <td>...</td>\n",
       "    </tr>\n",
       "    <tr>\n",
       "      <th>763</th>\n",
       "      <td>207</td>\n",
       "      <td>1.0</td>\n",
       "      <td>2025-03-02 23:00:00-05:00</td>\n",
       "    </tr>\n",
       "    <tr>\n",
       "      <th>764</th>\n",
       "      <td>148</td>\n",
       "      <td>42.0</td>\n",
       "      <td>2025-03-02 23:00:00-05:00</td>\n",
       "    </tr>\n",
       "    <tr>\n",
       "      <th>765</th>\n",
       "      <td>95</td>\n",
       "      <td>1.0</td>\n",
       "      <td>2025-03-02 23:00:00-05:00</td>\n",
       "    </tr>\n",
       "    <tr>\n",
       "      <th>766</th>\n",
       "      <td>61</td>\n",
       "      <td>1.0</td>\n",
       "      <td>2025-03-02 23:00:00-05:00</td>\n",
       "    </tr>\n",
       "    <tr>\n",
       "      <th>767</th>\n",
       "      <td>13</td>\n",
       "      <td>25.0</td>\n",
       "      <td>2025-03-02 23:00:00-05:00</td>\n",
       "    </tr>\n",
       "  </tbody>\n",
       "</table>\n",
       "<p>768 rows × 3 columns</p>\n",
       "</div>"
      ],
      "text/plain": [
       "     pickup_location_id  predicted_demand               pickup_hour\n",
       "0                   190               0.0 2025-03-02 21:00:00-05:00\n",
       "1                    18               0.0 2025-03-02 21:00:00-05:00\n",
       "2                   150               0.0 2025-03-02 21:00:00-05:00\n",
       "3                   113               1.0 2025-03-02 21:00:00-05:00\n",
       "4                   106               0.0 2025-03-02 21:00:00-05:00\n",
       "..                  ...               ...                       ...\n",
       "763                 207               1.0 2025-03-02 23:00:00-05:00\n",
       "764                 148              42.0 2025-03-02 23:00:00-05:00\n",
       "765                  95               1.0 2025-03-02 23:00:00-05:00\n",
       "766                  61               1.0 2025-03-02 23:00:00-05:00\n",
       "767                  13              25.0 2025-03-02 23:00:00-05:00\n",
       "\n",
       "[768 rows x 3 columns]"
      ]
     },
     "execution_count": 39,
     "metadata": {},
     "output_type": "execute_result"
    }
   ],
   "source": [
    "df_copy"
   ]
  },
  {
   "cell_type": "code",
   "execution_count": 48,
   "metadata": {},
   "outputs": [
    {
     "data": {
      "text/html": [
       "<div>\n",
       "<style scoped>\n",
       "    .dataframe tbody tr th:only-of-type {\n",
       "        vertical-align: middle;\n",
       "    }\n",
       "\n",
       "    .dataframe tbody tr th {\n",
       "        vertical-align: top;\n",
       "    }\n",
       "\n",
       "    .dataframe thead th {\n",
       "        text-align: right;\n",
       "    }\n",
       "</style>\n",
       "<table border=\"1\" class=\"dataframe\">\n",
       "  <thead>\n",
       "    <tr style=\"text-align: right;\">\n",
       "      <th></th>\n",
       "      <th>pickup_location_id</th>\n",
       "      <th>predicted_demand</th>\n",
       "      <th>pickup_hour</th>\n",
       "    </tr>\n",
       "  </thead>\n",
       "  <tbody>\n",
       "    <tr>\n",
       "      <th>512</th>\n",
       "      <td>164</td>\n",
       "      <td>134.0</td>\n",
       "      <td>2025-03-02 23:00:00</td>\n",
       "    </tr>\n",
       "    <tr>\n",
       "      <th>513</th>\n",
       "      <td>263</td>\n",
       "      <td>96.0</td>\n",
       "      <td>2025-03-02 23:00:00</td>\n",
       "    </tr>\n",
       "    <tr>\n",
       "      <th>514</th>\n",
       "      <td>206</td>\n",
       "      <td>0.0</td>\n",
       "      <td>2025-03-02 23:00:00</td>\n",
       "    </tr>\n",
       "    <tr>\n",
       "      <th>515</th>\n",
       "      <td>48</td>\n",
       "      <td>118.0</td>\n",
       "      <td>2025-03-02 23:00:00</td>\n",
       "    </tr>\n",
       "    <tr>\n",
       "      <th>516</th>\n",
       "      <td>107</td>\n",
       "      <td>123.0</td>\n",
       "      <td>2025-03-02 23:00:00</td>\n",
       "    </tr>\n",
       "    <tr>\n",
       "      <th>...</th>\n",
       "      <td>...</td>\n",
       "      <td>...</td>\n",
       "      <td>...</td>\n",
       "    </tr>\n",
       "    <tr>\n",
       "      <th>763</th>\n",
       "      <td>207</td>\n",
       "      <td>1.0</td>\n",
       "      <td>2025-03-02 23:00:00</td>\n",
       "    </tr>\n",
       "    <tr>\n",
       "      <th>764</th>\n",
       "      <td>148</td>\n",
       "      <td>42.0</td>\n",
       "      <td>2025-03-02 23:00:00</td>\n",
       "    </tr>\n",
       "    <tr>\n",
       "      <th>765</th>\n",
       "      <td>95</td>\n",
       "      <td>1.0</td>\n",
       "      <td>2025-03-02 23:00:00</td>\n",
       "    </tr>\n",
       "    <tr>\n",
       "      <th>766</th>\n",
       "      <td>61</td>\n",
       "      <td>1.0</td>\n",
       "      <td>2025-03-02 23:00:00</td>\n",
       "    </tr>\n",
       "    <tr>\n",
       "      <th>767</th>\n",
       "      <td>13</td>\n",
       "      <td>25.0</td>\n",
       "      <td>2025-03-02 23:00:00</td>\n",
       "    </tr>\n",
       "  </tbody>\n",
       "</table>\n",
       "<p>256 rows × 3 columns</p>\n",
       "</div>"
      ],
      "text/plain": [
       "     pickup_location_id  predicted_demand         pickup_hour\n",
       "512                 164             134.0 2025-03-02 23:00:00\n",
       "513                 263              96.0 2025-03-02 23:00:00\n",
       "514                 206               0.0 2025-03-02 23:00:00\n",
       "515                  48             118.0 2025-03-02 23:00:00\n",
       "516                 107             123.0 2025-03-02 23:00:00\n",
       "..                  ...               ...                 ...\n",
       "763                 207               1.0 2025-03-02 23:00:00\n",
       "764                 148              42.0 2025-03-02 23:00:00\n",
       "765                  95               1.0 2025-03-02 23:00:00\n",
       "766                  61               1.0 2025-03-02 23:00:00\n",
       "767                  13              25.0 2025-03-02 23:00:00\n",
       "\n",
       "[256 rows x 3 columns]"
      ]
     },
     "execution_count": 48,
     "metadata": {},
     "output_type": "execute_result"
    }
   ],
   "source": [
    "df = df[df[\"pickup_hour\"] == next_hour]\n",
    "df"
   ]
  },
  {
   "cell_type": "code",
   "execution_count": 60,
   "metadata": {},
   "outputs": [
    {
     "name": "stdout",
     "output_type": "stream",
     "text": [
      "2025-03-02 23:01:37,640 INFO: Closing external client and cleaning up certificates.\n",
      "Connection closed.\n",
      "2025-03-02 23:01:37,658 INFO: Initializing external client\n",
      "2025-03-02 23:01:37,659 INFO: Base URL: https://c.app.hopsworks.ai:443\n",
      "2025-03-02 23:01:38,630 INFO: Python Engine initialized.\n",
      "\n",
      "Logged in to project, explore it here https://c.app.hopsworks.ai:443/p/1212635\n",
      "Finished: Reading data from Hopsworks, using Hopsworks Feature Query Service (0.40s) \n",
      "Current EST time: 2025-03-02 23:01:37.640508\n",
      "Next hour: 2025-03-02 23:00:00\n",
      "Found 256 records\n"
     ]
    }
   ],
   "source": [
    "now = datetime.now()\n",
    "next_hour = (now + timedelta(hours=0)).replace(minute=0, second=0, microsecond=0)\n",
    "\n",
    "fs = get_feature_store()\n",
    "fg = fs.get_feature_group(name=config.FEATURE_GROUP_MODEL_PREDICTION, version=1)\n",
    "df = fg.read()\n",
    "\n",
    "df[\"pickup_hour\"] = df[\"pickup_hour\"].dt.tz_convert(\"US/Eastern\")\n",
    "df[\"pickup_hour\"] = df[\"pickup_hour\"].dt.tz_localize(None)\n",
    "# Then filter for next hour in the DataFrame\n",
    "df = df[df[\"pickup_hour\"] == next_hour]\n",
    "\n",
    "print(f\"Current EST time: {now}\")\n",
    "print(f\"Next hour: {next_hour}\")\n",
    "print(f\"Found {len(df)} records\")"
   ]
  },
  {
   "cell_type": "code",
   "execution_count": 54,
   "metadata": {},
   "outputs": [
    {
     "data": {
      "text/html": [
       "<div>\n",
       "<style scoped>\n",
       "    .dataframe tbody tr th:only-of-type {\n",
       "        vertical-align: middle;\n",
       "    }\n",
       "\n",
       "    .dataframe tbody tr th {\n",
       "        vertical-align: top;\n",
       "    }\n",
       "\n",
       "    .dataframe thead th {\n",
       "        text-align: right;\n",
       "    }\n",
       "</style>\n",
       "<table border=\"1\" class=\"dataframe\">\n",
       "  <thead>\n",
       "    <tr style=\"text-align: right;\">\n",
       "      <th></th>\n",
       "      <th>pickup_location_id</th>\n",
       "      <th>predicted_demand</th>\n",
       "      <th>pickup_hour</th>\n",
       "    </tr>\n",
       "  </thead>\n",
       "  <tbody>\n",
       "    <tr>\n",
       "      <th>512</th>\n",
       "      <td>164</td>\n",
       "      <td>134.0</td>\n",
       "      <td>2025-03-02 23:00:00</td>\n",
       "    </tr>\n",
       "    <tr>\n",
       "      <th>513</th>\n",
       "      <td>263</td>\n",
       "      <td>96.0</td>\n",
       "      <td>2025-03-02 23:00:00</td>\n",
       "    </tr>\n",
       "    <tr>\n",
       "      <th>514</th>\n",
       "      <td>206</td>\n",
       "      <td>0.0</td>\n",
       "      <td>2025-03-02 23:00:00</td>\n",
       "    </tr>\n",
       "    <tr>\n",
       "      <th>515</th>\n",
       "      <td>48</td>\n",
       "      <td>118.0</td>\n",
       "      <td>2025-03-02 23:00:00</td>\n",
       "    </tr>\n",
       "    <tr>\n",
       "      <th>516</th>\n",
       "      <td>107</td>\n",
       "      <td>123.0</td>\n",
       "      <td>2025-03-02 23:00:00</td>\n",
       "    </tr>\n",
       "    <tr>\n",
       "      <th>...</th>\n",
       "      <td>...</td>\n",
       "      <td>...</td>\n",
       "      <td>...</td>\n",
       "    </tr>\n",
       "    <tr>\n",
       "      <th>763</th>\n",
       "      <td>207</td>\n",
       "      <td>1.0</td>\n",
       "      <td>2025-03-02 23:00:00</td>\n",
       "    </tr>\n",
       "    <tr>\n",
       "      <th>764</th>\n",
       "      <td>148</td>\n",
       "      <td>42.0</td>\n",
       "      <td>2025-03-02 23:00:00</td>\n",
       "    </tr>\n",
       "    <tr>\n",
       "      <th>765</th>\n",
       "      <td>95</td>\n",
       "      <td>1.0</td>\n",
       "      <td>2025-03-02 23:00:00</td>\n",
       "    </tr>\n",
       "    <tr>\n",
       "      <th>766</th>\n",
       "      <td>61</td>\n",
       "      <td>1.0</td>\n",
       "      <td>2025-03-02 23:00:00</td>\n",
       "    </tr>\n",
       "    <tr>\n",
       "      <th>767</th>\n",
       "      <td>13</td>\n",
       "      <td>25.0</td>\n",
       "      <td>2025-03-02 23:00:00</td>\n",
       "    </tr>\n",
       "  </tbody>\n",
       "</table>\n",
       "<p>256 rows × 3 columns</p>\n",
       "</div>"
      ],
      "text/plain": [
       "     pickup_location_id  predicted_demand         pickup_hour\n",
       "512                 164             134.0 2025-03-02 23:00:00\n",
       "513                 263              96.0 2025-03-02 23:00:00\n",
       "514                 206               0.0 2025-03-02 23:00:00\n",
       "515                  48             118.0 2025-03-02 23:00:00\n",
       "516                 107             123.0 2025-03-02 23:00:00\n",
       "..                  ...               ...                 ...\n",
       "763                 207               1.0 2025-03-02 23:00:00\n",
       "764                 148              42.0 2025-03-02 23:00:00\n",
       "765                  95               1.0 2025-03-02 23:00:00\n",
       "766                  61               1.0 2025-03-02 23:00:00\n",
       "767                  13              25.0 2025-03-02 23:00:00\n",
       "\n",
       "[256 rows x 3 columns]"
      ]
     },
     "execution_count": 54,
     "metadata": {},
     "output_type": "execute_result"
    }
   ],
   "source": [
    "df"
   ]
  },
  {
   "cell_type": "code",
   "execution_count": 6,
   "metadata": {},
   "outputs": [
    {
     "data": {
      "text/plain": [
       "Timestamp('2025-03-02 22:00:00')"
      ]
     },
     "execution_count": 6,
     "metadata": {},
     "output_type": "execute_result"
    }
   ],
   "source": [
    "from datetime import datetime, timedelta\n",
    "\n",
    "(pd.Timestamp.now() - timedelta(hours=1)).floor(\"h\")"
   ]
  },
  {
   "cell_type": "code",
   "execution_count": 10,
   "metadata": {},
   "outputs": [
    {
     "name": "stdout",
     "output_type": "stream",
     "text": [
      "2025-03-02 23:10:21,232 INFO: Closing external client and cleaning up certificates.\n",
      "Connection closed.\n",
      "2025-03-02 23:10:21,232 INFO: Initializing external client\n",
      "2025-03-02 23:10:21,246 INFO: Base URL: https://c.app.hopsworks.ai:443\n",
      "2025-03-02 23:10:22,134 INFO: Python Engine initialized.\n",
      "\n",
      "Logged in to project, explore it here https://c.app.hopsworks.ai:443/p/1212635\n",
      "Finished: Reading data from Hopsworks, using Hopsworks Feature Query Service (9.90s) \n"
     ]
    }
   ],
   "source": [
    "from src.inference import get_feature_store\n",
    "from src import config as config\n",
    "\n",
    "current_hour = (pd.Timestamp.now() - timedelta(hours=12)).floor(\"h\")\n",
    "\n",
    "fs = get_feature_store()\n",
    "fg = fs.get_feature_group(name=config.FEATURE_GROUP_MODEL_PREDICTION, version=1)\n",
    "\n",
    "df = fg.filter((fg.pickup_hour >= current_hour)).read()\n",
    "df[\"pickup_hour\"] = df[\"pickup_hour\"].dt.tz_convert(\"US/Eastern\")"
   ]
  },
  {
   "cell_type": "code",
   "execution_count": 11,
   "metadata": {},
   "outputs": [
    {
     "data": {
      "text/html": [
       "<div>\n",
       "<style scoped>\n",
       "    .dataframe tbody tr th:only-of-type {\n",
       "        vertical-align: middle;\n",
       "    }\n",
       "\n",
       "    .dataframe tbody tr th {\n",
       "        vertical-align: top;\n",
       "    }\n",
       "\n",
       "    .dataframe thead th {\n",
       "        text-align: right;\n",
       "    }\n",
       "</style>\n",
       "<table border=\"1\" class=\"dataframe\">\n",
       "  <thead>\n",
       "    <tr style=\"text-align: right;\">\n",
       "      <th></th>\n",
       "      <th>pickup_location_id</th>\n",
       "      <th>predicted_demand</th>\n",
       "      <th>pickup_hour</th>\n",
       "    </tr>\n",
       "  </thead>\n",
       "  <tbody>\n",
       "    <tr>\n",
       "      <th>0</th>\n",
       "      <td>190</td>\n",
       "      <td>0.0</td>\n",
       "      <td>2025-03-02 21:00:00-05:00</td>\n",
       "    </tr>\n",
       "    <tr>\n",
       "      <th>1</th>\n",
       "      <td>18</td>\n",
       "      <td>0.0</td>\n",
       "      <td>2025-03-02 21:00:00-05:00</td>\n",
       "    </tr>\n",
       "    <tr>\n",
       "      <th>2</th>\n",
       "      <td>150</td>\n",
       "      <td>0.0</td>\n",
       "      <td>2025-03-02 21:00:00-05:00</td>\n",
       "    </tr>\n",
       "    <tr>\n",
       "      <th>3</th>\n",
       "      <td>113</td>\n",
       "      <td>1.0</td>\n",
       "      <td>2025-03-02 21:00:00-05:00</td>\n",
       "    </tr>\n",
       "    <tr>\n",
       "      <th>4</th>\n",
       "      <td>106</td>\n",
       "      <td>0.0</td>\n",
       "      <td>2025-03-02 21:00:00-05:00</td>\n",
       "    </tr>\n",
       "    <tr>\n",
       "      <th>...</th>\n",
       "      <td>...</td>\n",
       "      <td>...</td>\n",
       "      <td>...</td>\n",
       "    </tr>\n",
       "    <tr>\n",
       "      <th>763</th>\n",
       "      <td>207</td>\n",
       "      <td>1.0</td>\n",
       "      <td>2025-03-02 23:00:00-05:00</td>\n",
       "    </tr>\n",
       "    <tr>\n",
       "      <th>764</th>\n",
       "      <td>148</td>\n",
       "      <td>42.0</td>\n",
       "      <td>2025-03-02 23:00:00-05:00</td>\n",
       "    </tr>\n",
       "    <tr>\n",
       "      <th>765</th>\n",
       "      <td>95</td>\n",
       "      <td>1.0</td>\n",
       "      <td>2025-03-02 23:00:00-05:00</td>\n",
       "    </tr>\n",
       "    <tr>\n",
       "      <th>766</th>\n",
       "      <td>61</td>\n",
       "      <td>1.0</td>\n",
       "      <td>2025-03-02 23:00:00-05:00</td>\n",
       "    </tr>\n",
       "    <tr>\n",
       "      <th>767</th>\n",
       "      <td>13</td>\n",
       "      <td>25.0</td>\n",
       "      <td>2025-03-02 23:00:00-05:00</td>\n",
       "    </tr>\n",
       "  </tbody>\n",
       "</table>\n",
       "<p>768 rows × 3 columns</p>\n",
       "</div>"
      ],
      "text/plain": [
       "     pickup_location_id  predicted_demand               pickup_hour\n",
       "0                   190               0.0 2025-03-02 21:00:00-05:00\n",
       "1                    18               0.0 2025-03-02 21:00:00-05:00\n",
       "2                   150               0.0 2025-03-02 21:00:00-05:00\n",
       "3                   113               1.0 2025-03-02 21:00:00-05:00\n",
       "4                   106               0.0 2025-03-02 21:00:00-05:00\n",
       "..                  ...               ...                       ...\n",
       "763                 207               1.0 2025-03-02 23:00:00-05:00\n",
       "764                 148              42.0 2025-03-02 23:00:00-05:00\n",
       "765                  95               1.0 2025-03-02 23:00:00-05:00\n",
       "766                  61               1.0 2025-03-02 23:00:00-05:00\n",
       "767                  13              25.0 2025-03-02 23:00:00-05:00\n",
       "\n",
       "[768 rows x 3 columns]"
      ]
     },
     "execution_count": 11,
     "metadata": {},
     "output_type": "execute_result"
    }
   ],
   "source": [
    "df"
   ]
  },
  {
   "cell_type": "code",
   "execution_count": 15,
   "metadata": {},
   "outputs": [
    {
     "data": {
      "application/vnd.plotly.v1+json": {
       "config": {
        "plotlyServerURL": "https://plot.ly"
       },
       "data": [
        {
         "hovertemplate": "Time=%{x}<br>Ride Counts=%{y}<extra></extra>",
         "legendgroup": "",
         "line": {
          "color": "#636efa",
          "dash": "solid"
         },
         "marker": {
          "symbol": "circle"
         },
         "mode": "lines+markers",
         "name": "",
         "orientation": "v",
         "showlegend": false,
         "type": "scatter",
         "x": [
          "2025-02-02T05:00:00.000000000",
          "2025-02-02T06:00:00.000000000",
          "2025-02-02T07:00:00.000000000",
          "2025-02-02T08:00:00.000000000",
          "2025-02-02T09:00:00.000000000",
          "2025-02-02T10:00:00.000000000",
          "2025-02-02T11:00:00.000000000",
          "2025-02-02T12:00:00.000000000",
          "2025-02-02T13:00:00.000000000",
          "2025-02-02T14:00:00.000000000",
          "2025-02-02T15:00:00.000000000",
          "2025-02-02T16:00:00.000000000",
          "2025-02-02T17:00:00.000000000",
          "2025-02-02T18:00:00.000000000",
          "2025-02-02T19:00:00.000000000",
          "2025-02-02T20:00:00.000000000",
          "2025-02-02T21:00:00.000000000",
          "2025-02-02T22:00:00.000000000",
          "2025-02-02T23:00:00.000000000",
          "2025-02-03T00:00:00.000000000",
          "2025-02-03T01:00:00.000000000",
          "2025-02-03T02:00:00.000000000",
          "2025-02-03T03:00:00.000000000",
          "2025-02-03T04:00:00.000000000",
          "2025-02-03T05:00:00.000000000",
          "2025-02-03T06:00:00.000000000",
          "2025-02-03T07:00:00.000000000",
          "2025-02-03T08:00:00.000000000",
          "2025-02-03T09:00:00.000000000",
          "2025-02-03T10:00:00.000000000",
          "2025-02-03T11:00:00.000000000",
          "2025-02-03T12:00:00.000000000",
          "2025-02-03T13:00:00.000000000",
          "2025-02-03T14:00:00.000000000",
          "2025-02-03T15:00:00.000000000",
          "2025-02-03T16:00:00.000000000",
          "2025-02-03T17:00:00.000000000",
          "2025-02-03T18:00:00.000000000",
          "2025-02-03T19:00:00.000000000",
          "2025-02-03T20:00:00.000000000",
          "2025-02-03T21:00:00.000000000",
          "2025-02-03T22:00:00.000000000",
          "2025-02-03T23:00:00.000000000",
          "2025-02-04T00:00:00.000000000",
          "2025-02-04T01:00:00.000000000",
          "2025-02-04T02:00:00.000000000",
          "2025-02-04T03:00:00.000000000",
          "2025-02-04T04:00:00.000000000",
          "2025-02-04T05:00:00.000000000",
          "2025-02-04T06:00:00.000000000",
          "2025-02-04T07:00:00.000000000",
          "2025-02-04T08:00:00.000000000",
          "2025-02-04T09:00:00.000000000",
          "2025-02-04T10:00:00.000000000",
          "2025-02-04T11:00:00.000000000",
          "2025-02-04T12:00:00.000000000",
          "2025-02-04T13:00:00.000000000",
          "2025-02-04T14:00:00.000000000",
          "2025-02-04T15:00:00.000000000",
          "2025-02-04T16:00:00.000000000",
          "2025-02-04T17:00:00.000000000",
          "2025-02-04T18:00:00.000000000",
          "2025-02-04T19:00:00.000000000",
          "2025-02-04T20:00:00.000000000",
          "2025-02-04T21:00:00.000000000",
          "2025-02-04T22:00:00.000000000",
          "2025-02-04T23:00:00.000000000",
          "2025-02-05T00:00:00.000000000",
          "2025-02-05T01:00:00.000000000",
          "2025-02-05T02:00:00.000000000",
          "2025-02-05T03:00:00.000000000",
          "2025-02-05T04:00:00.000000000",
          "2025-02-05T05:00:00.000000000",
          "2025-02-05T06:00:00.000000000",
          "2025-02-05T07:00:00.000000000",
          "2025-02-05T08:00:00.000000000",
          "2025-02-05T09:00:00.000000000",
          "2025-02-05T10:00:00.000000000",
          "2025-02-05T11:00:00.000000000",
          "2025-02-05T12:00:00.000000000",
          "2025-02-05T13:00:00.000000000",
          "2025-02-05T14:00:00.000000000",
          "2025-02-05T15:00:00.000000000",
          "2025-02-05T16:00:00.000000000",
          "2025-02-05T17:00:00.000000000",
          "2025-02-05T18:00:00.000000000",
          "2025-02-05T19:00:00.000000000",
          "2025-02-05T20:00:00.000000000",
          "2025-02-05T21:00:00.000000000",
          "2025-02-05T22:00:00.000000000",
          "2025-02-05T23:00:00.000000000",
          "2025-02-06T00:00:00.000000000",
          "2025-02-06T01:00:00.000000000",
          "2025-02-06T02:00:00.000000000",
          "2025-02-06T03:00:00.000000000",
          "2025-02-06T04:00:00.000000000",
          "2025-02-06T05:00:00.000000000",
          "2025-02-06T06:00:00.000000000",
          "2025-02-06T07:00:00.000000000",
          "2025-02-06T08:00:00.000000000",
          "2025-02-06T09:00:00.000000000",
          "2025-02-06T10:00:00.000000000",
          "2025-02-06T11:00:00.000000000",
          "2025-02-06T12:00:00.000000000",
          "2025-02-06T13:00:00.000000000",
          "2025-02-06T14:00:00.000000000",
          "2025-02-06T15:00:00.000000000",
          "2025-02-06T16:00:00.000000000",
          "2025-02-06T17:00:00.000000000",
          "2025-02-06T18:00:00.000000000",
          "2025-02-06T19:00:00.000000000",
          "2025-02-06T20:00:00.000000000",
          "2025-02-06T21:00:00.000000000",
          "2025-02-06T22:00:00.000000000",
          "2025-02-06T23:00:00.000000000",
          "2025-02-07T00:00:00.000000000",
          "2025-02-07T01:00:00.000000000",
          "2025-02-07T02:00:00.000000000",
          "2025-02-07T03:00:00.000000000",
          "2025-02-07T04:00:00.000000000",
          "2025-02-07T05:00:00.000000000",
          "2025-02-07T06:00:00.000000000",
          "2025-02-07T07:00:00.000000000",
          "2025-02-07T08:00:00.000000000",
          "2025-02-07T09:00:00.000000000",
          "2025-02-07T10:00:00.000000000",
          "2025-02-07T11:00:00.000000000",
          "2025-02-07T12:00:00.000000000",
          "2025-02-07T13:00:00.000000000",
          "2025-02-07T14:00:00.000000000",
          "2025-02-07T15:00:00.000000000",
          "2025-02-07T16:00:00.000000000",
          "2025-02-07T17:00:00.000000000",
          "2025-02-07T18:00:00.000000000",
          "2025-02-07T19:00:00.000000000",
          "2025-02-07T20:00:00.000000000",
          "2025-02-07T21:00:00.000000000",
          "2025-02-07T22:00:00.000000000",
          "2025-02-07T23:00:00.000000000",
          "2025-02-08T00:00:00.000000000",
          "2025-02-08T01:00:00.000000000",
          "2025-02-08T02:00:00.000000000",
          "2025-02-08T03:00:00.000000000",
          "2025-02-08T04:00:00.000000000",
          "2025-02-08T05:00:00.000000000",
          "2025-02-08T06:00:00.000000000",
          "2025-02-08T07:00:00.000000000",
          "2025-02-08T08:00:00.000000000",
          "2025-02-08T09:00:00.000000000",
          "2025-02-08T10:00:00.000000000",
          "2025-02-08T11:00:00.000000000",
          "2025-02-08T12:00:00.000000000",
          "2025-02-08T13:00:00.000000000",
          "2025-02-08T14:00:00.000000000",
          "2025-02-08T15:00:00.000000000",
          "2025-02-08T16:00:00.000000000",
          "2025-02-08T17:00:00.000000000",
          "2025-02-08T18:00:00.000000000",
          "2025-02-08T19:00:00.000000000",
          "2025-02-08T20:00:00.000000000",
          "2025-02-08T21:00:00.000000000",
          "2025-02-08T22:00:00.000000000",
          "2025-02-08T23:00:00.000000000",
          "2025-02-09T00:00:00.000000000",
          "2025-02-09T01:00:00.000000000",
          "2025-02-09T02:00:00.000000000",
          "2025-02-09T03:00:00.000000000",
          "2025-02-09T04:00:00.000000000",
          "2025-02-09T05:00:00.000000000",
          "2025-02-09T06:00:00.000000000",
          "2025-02-09T07:00:00.000000000",
          "2025-02-09T08:00:00.000000000",
          "2025-02-09T09:00:00.000000000",
          "2025-02-09T10:00:00.000000000",
          "2025-02-09T11:00:00.000000000",
          "2025-02-09T12:00:00.000000000",
          "2025-02-09T13:00:00.000000000",
          "2025-02-09T14:00:00.000000000",
          "2025-02-09T15:00:00.000000000",
          "2025-02-09T16:00:00.000000000",
          "2025-02-09T17:00:00.000000000",
          "2025-02-09T18:00:00.000000000",
          "2025-02-09T19:00:00.000000000",
          "2025-02-09T20:00:00.000000000",
          "2025-02-09T21:00:00.000000000",
          "2025-02-09T22:00:00.000000000",
          "2025-02-09T23:00:00.000000000",
          "2025-02-10T00:00:00.000000000",
          "2025-02-10T01:00:00.000000000",
          "2025-02-10T02:00:00.000000000",
          "2025-02-10T03:00:00.000000000",
          "2025-02-10T04:00:00.000000000",
          "2025-02-10T05:00:00.000000000",
          "2025-02-10T06:00:00.000000000",
          "2025-02-10T07:00:00.000000000",
          "2025-02-10T08:00:00.000000000",
          "2025-02-10T09:00:00.000000000",
          "2025-02-10T10:00:00.000000000",
          "2025-02-10T11:00:00.000000000",
          "2025-02-10T12:00:00.000000000",
          "2025-02-10T13:00:00.000000000",
          "2025-02-10T14:00:00.000000000",
          "2025-02-10T15:00:00.000000000",
          "2025-02-10T16:00:00.000000000",
          "2025-02-10T17:00:00.000000000",
          "2025-02-10T18:00:00.000000000",
          "2025-02-10T19:00:00.000000000",
          "2025-02-10T20:00:00.000000000",
          "2025-02-10T21:00:00.000000000",
          "2025-02-10T22:00:00.000000000",
          "2025-02-10T23:00:00.000000000",
          "2025-02-11T00:00:00.000000000",
          "2025-02-11T01:00:00.000000000",
          "2025-02-11T02:00:00.000000000",
          "2025-02-11T03:00:00.000000000",
          "2025-02-11T04:00:00.000000000",
          "2025-02-11T05:00:00.000000000",
          "2025-02-11T06:00:00.000000000",
          "2025-02-11T07:00:00.000000000",
          "2025-02-11T08:00:00.000000000",
          "2025-02-11T09:00:00.000000000",
          "2025-02-11T10:00:00.000000000",
          "2025-02-11T11:00:00.000000000",
          "2025-02-11T12:00:00.000000000",
          "2025-02-11T13:00:00.000000000",
          "2025-02-11T14:00:00.000000000",
          "2025-02-11T15:00:00.000000000",
          "2025-02-11T16:00:00.000000000",
          "2025-02-11T17:00:00.000000000",
          "2025-02-11T18:00:00.000000000",
          "2025-02-11T19:00:00.000000000",
          "2025-02-11T20:00:00.000000000",
          "2025-02-11T21:00:00.000000000",
          "2025-02-11T22:00:00.000000000",
          "2025-02-11T23:00:00.000000000",
          "2025-02-12T00:00:00.000000000",
          "2025-02-12T01:00:00.000000000",
          "2025-02-12T02:00:00.000000000",
          "2025-02-12T03:00:00.000000000",
          "2025-02-12T04:00:00.000000000",
          "2025-02-12T05:00:00.000000000",
          "2025-02-12T06:00:00.000000000",
          "2025-02-12T07:00:00.000000000",
          "2025-02-12T08:00:00.000000000",
          "2025-02-12T09:00:00.000000000",
          "2025-02-12T10:00:00.000000000",
          "2025-02-12T11:00:00.000000000",
          "2025-02-12T12:00:00.000000000",
          "2025-02-12T13:00:00.000000000",
          "2025-02-12T14:00:00.000000000",
          "2025-02-12T15:00:00.000000000",
          "2025-02-12T16:00:00.000000000",
          "2025-02-12T17:00:00.000000000",
          "2025-02-12T18:00:00.000000000",
          "2025-02-12T19:00:00.000000000",
          "2025-02-12T20:00:00.000000000",
          "2025-02-12T21:00:00.000000000",
          "2025-02-12T22:00:00.000000000",
          "2025-02-12T23:00:00.000000000",
          "2025-02-13T00:00:00.000000000",
          "2025-02-13T01:00:00.000000000",
          "2025-02-13T02:00:00.000000000",
          "2025-02-13T03:00:00.000000000",
          "2025-02-13T04:00:00.000000000",
          "2025-02-13T05:00:00.000000000",
          "2025-02-13T06:00:00.000000000",
          "2025-02-13T07:00:00.000000000",
          "2025-02-13T08:00:00.000000000",
          "2025-02-13T09:00:00.000000000",
          "2025-02-13T10:00:00.000000000",
          "2025-02-13T11:00:00.000000000",
          "2025-02-13T12:00:00.000000000",
          "2025-02-13T13:00:00.000000000",
          "2025-02-13T14:00:00.000000000",
          "2025-02-13T15:00:00.000000000",
          "2025-02-13T16:00:00.000000000",
          "2025-02-13T17:00:00.000000000",
          "2025-02-13T18:00:00.000000000",
          "2025-02-13T19:00:00.000000000",
          "2025-02-13T20:00:00.000000000",
          "2025-02-13T21:00:00.000000000",
          "2025-02-13T22:00:00.000000000",
          "2025-02-13T23:00:00.000000000",
          "2025-02-14T00:00:00.000000000",
          "2025-02-14T01:00:00.000000000",
          "2025-02-14T02:00:00.000000000",
          "2025-02-14T03:00:00.000000000",
          "2025-02-14T04:00:00.000000000",
          "2025-02-14T05:00:00.000000000",
          "2025-02-14T06:00:00.000000000",
          "2025-02-14T07:00:00.000000000",
          "2025-02-14T08:00:00.000000000",
          "2025-02-14T09:00:00.000000000",
          "2025-02-14T10:00:00.000000000",
          "2025-02-14T11:00:00.000000000",
          "2025-02-14T12:00:00.000000000",
          "2025-02-14T13:00:00.000000000",
          "2025-02-14T14:00:00.000000000",
          "2025-02-14T15:00:00.000000000",
          "2025-02-14T16:00:00.000000000",
          "2025-02-14T17:00:00.000000000",
          "2025-02-14T18:00:00.000000000",
          "2025-02-14T19:00:00.000000000",
          "2025-02-14T20:00:00.000000000",
          "2025-02-14T21:00:00.000000000",
          "2025-02-14T22:00:00.000000000",
          "2025-02-14T23:00:00.000000000",
          "2025-02-15T00:00:00.000000000",
          "2025-02-15T01:00:00.000000000",
          "2025-02-15T02:00:00.000000000",
          "2025-02-15T03:00:00.000000000",
          "2025-02-15T04:00:00.000000000",
          "2025-02-15T05:00:00.000000000",
          "2025-02-15T06:00:00.000000000",
          "2025-02-15T07:00:00.000000000",
          "2025-02-15T08:00:00.000000000",
          "2025-02-15T09:00:00.000000000",
          "2025-02-15T10:00:00.000000000",
          "2025-02-15T11:00:00.000000000",
          "2025-02-15T12:00:00.000000000",
          "2025-02-15T13:00:00.000000000",
          "2025-02-15T14:00:00.000000000",
          "2025-02-15T15:00:00.000000000",
          "2025-02-15T16:00:00.000000000",
          "2025-02-15T17:00:00.000000000",
          "2025-02-15T18:00:00.000000000",
          "2025-02-15T19:00:00.000000000",
          "2025-02-15T20:00:00.000000000",
          "2025-02-15T21:00:00.000000000",
          "2025-02-15T22:00:00.000000000",
          "2025-02-15T23:00:00.000000000",
          "2025-02-16T00:00:00.000000000",
          "2025-02-16T01:00:00.000000000",
          "2025-02-16T02:00:00.000000000",
          "2025-02-16T03:00:00.000000000",
          "2025-02-16T04:00:00.000000000",
          "2025-02-16T05:00:00.000000000",
          "2025-02-16T06:00:00.000000000",
          "2025-02-16T07:00:00.000000000",
          "2025-02-16T08:00:00.000000000",
          "2025-02-16T09:00:00.000000000",
          "2025-02-16T10:00:00.000000000",
          "2025-02-16T11:00:00.000000000",
          "2025-02-16T12:00:00.000000000",
          "2025-02-16T13:00:00.000000000",
          "2025-02-16T14:00:00.000000000",
          "2025-02-16T15:00:00.000000000",
          "2025-02-16T16:00:00.000000000",
          "2025-02-16T17:00:00.000000000",
          "2025-02-16T18:00:00.000000000",
          "2025-02-16T19:00:00.000000000",
          "2025-02-16T20:00:00.000000000",
          "2025-02-16T21:00:00.000000000",
          "2025-02-16T22:00:00.000000000",
          "2025-02-16T23:00:00.000000000",
          "2025-02-17T00:00:00.000000000",
          "2025-02-17T01:00:00.000000000",
          "2025-02-17T02:00:00.000000000",
          "2025-02-17T03:00:00.000000000",
          "2025-02-17T04:00:00.000000000",
          "2025-02-17T05:00:00.000000000",
          "2025-02-17T06:00:00.000000000",
          "2025-02-17T07:00:00.000000000",
          "2025-02-17T08:00:00.000000000",
          "2025-02-17T09:00:00.000000000",
          "2025-02-17T10:00:00.000000000",
          "2025-02-17T11:00:00.000000000",
          "2025-02-17T12:00:00.000000000",
          "2025-02-17T13:00:00.000000000",
          "2025-02-17T14:00:00.000000000",
          "2025-02-17T15:00:00.000000000",
          "2025-02-17T16:00:00.000000000",
          "2025-02-17T17:00:00.000000000",
          "2025-02-17T18:00:00.000000000",
          "2025-02-17T19:00:00.000000000",
          "2025-02-17T20:00:00.000000000",
          "2025-02-17T21:00:00.000000000",
          "2025-02-17T22:00:00.000000000",
          "2025-02-17T23:00:00.000000000",
          "2025-02-18T00:00:00.000000000",
          "2025-02-18T01:00:00.000000000",
          "2025-02-18T02:00:00.000000000",
          "2025-02-18T03:00:00.000000000",
          "2025-02-18T04:00:00.000000000",
          "2025-02-18T05:00:00.000000000",
          "2025-02-18T06:00:00.000000000",
          "2025-02-18T07:00:00.000000000",
          "2025-02-18T08:00:00.000000000",
          "2025-02-18T09:00:00.000000000",
          "2025-02-18T10:00:00.000000000",
          "2025-02-18T11:00:00.000000000",
          "2025-02-18T12:00:00.000000000",
          "2025-02-18T13:00:00.000000000",
          "2025-02-18T14:00:00.000000000",
          "2025-02-18T15:00:00.000000000",
          "2025-02-18T16:00:00.000000000",
          "2025-02-18T17:00:00.000000000",
          "2025-02-18T18:00:00.000000000",
          "2025-02-18T19:00:00.000000000",
          "2025-02-18T20:00:00.000000000",
          "2025-02-18T21:00:00.000000000",
          "2025-02-18T22:00:00.000000000",
          "2025-02-18T23:00:00.000000000",
          "2025-02-19T00:00:00.000000000",
          "2025-02-19T01:00:00.000000000",
          "2025-02-19T02:00:00.000000000",
          "2025-02-19T03:00:00.000000000",
          "2025-02-19T04:00:00.000000000",
          "2025-02-19T05:00:00.000000000",
          "2025-02-19T06:00:00.000000000",
          "2025-02-19T07:00:00.000000000",
          "2025-02-19T08:00:00.000000000",
          "2025-02-19T09:00:00.000000000",
          "2025-02-19T10:00:00.000000000",
          "2025-02-19T11:00:00.000000000",
          "2025-02-19T12:00:00.000000000",
          "2025-02-19T13:00:00.000000000",
          "2025-02-19T14:00:00.000000000",
          "2025-02-19T15:00:00.000000000",
          "2025-02-19T16:00:00.000000000",
          "2025-02-19T17:00:00.000000000",
          "2025-02-19T18:00:00.000000000",
          "2025-02-19T19:00:00.000000000",
          "2025-02-19T20:00:00.000000000",
          "2025-02-19T21:00:00.000000000",
          "2025-02-19T22:00:00.000000000",
          "2025-02-19T23:00:00.000000000",
          "2025-02-20T00:00:00.000000000",
          "2025-02-20T01:00:00.000000000",
          "2025-02-20T02:00:00.000000000",
          "2025-02-20T03:00:00.000000000",
          "2025-02-20T04:00:00.000000000",
          "2025-02-20T05:00:00.000000000",
          "2025-02-20T06:00:00.000000000",
          "2025-02-20T07:00:00.000000000",
          "2025-02-20T08:00:00.000000000",
          "2025-02-20T09:00:00.000000000",
          "2025-02-20T10:00:00.000000000",
          "2025-02-20T11:00:00.000000000",
          "2025-02-20T12:00:00.000000000",
          "2025-02-20T13:00:00.000000000",
          "2025-02-20T14:00:00.000000000",
          "2025-02-20T15:00:00.000000000",
          "2025-02-20T16:00:00.000000000",
          "2025-02-20T17:00:00.000000000",
          "2025-02-20T18:00:00.000000000",
          "2025-02-20T19:00:00.000000000",
          "2025-02-20T20:00:00.000000000",
          "2025-02-20T21:00:00.000000000",
          "2025-02-20T22:00:00.000000000",
          "2025-02-20T23:00:00.000000000",
          "2025-02-21T00:00:00.000000000",
          "2025-02-21T01:00:00.000000000",
          "2025-02-21T02:00:00.000000000",
          "2025-02-21T03:00:00.000000000",
          "2025-02-21T04:00:00.000000000",
          "2025-02-21T05:00:00.000000000",
          "2025-02-21T06:00:00.000000000",
          "2025-02-21T07:00:00.000000000",
          "2025-02-21T08:00:00.000000000",
          "2025-02-21T09:00:00.000000000",
          "2025-02-21T10:00:00.000000000",
          "2025-02-21T11:00:00.000000000",
          "2025-02-21T12:00:00.000000000",
          "2025-02-21T13:00:00.000000000",
          "2025-02-21T14:00:00.000000000",
          "2025-02-21T15:00:00.000000000",
          "2025-02-21T16:00:00.000000000",
          "2025-02-21T17:00:00.000000000",
          "2025-02-21T18:00:00.000000000",
          "2025-02-21T19:00:00.000000000",
          "2025-02-21T20:00:00.000000000",
          "2025-02-21T21:00:00.000000000",
          "2025-02-21T22:00:00.000000000",
          "2025-02-21T23:00:00.000000000",
          "2025-02-22T00:00:00.000000000",
          "2025-02-22T01:00:00.000000000",
          "2025-02-22T02:00:00.000000000",
          "2025-02-22T03:00:00.000000000",
          "2025-02-22T04:00:00.000000000",
          "2025-02-22T05:00:00.000000000",
          "2025-02-22T06:00:00.000000000",
          "2025-02-22T07:00:00.000000000",
          "2025-02-22T08:00:00.000000000",
          "2025-02-22T09:00:00.000000000",
          "2025-02-22T10:00:00.000000000",
          "2025-02-22T11:00:00.000000000",
          "2025-02-22T12:00:00.000000000",
          "2025-02-22T13:00:00.000000000",
          "2025-02-22T14:00:00.000000000",
          "2025-02-22T15:00:00.000000000",
          "2025-02-22T16:00:00.000000000",
          "2025-02-22T17:00:00.000000000",
          "2025-02-22T18:00:00.000000000",
          "2025-02-22T19:00:00.000000000",
          "2025-02-22T20:00:00.000000000",
          "2025-02-22T21:00:00.000000000",
          "2025-02-22T22:00:00.000000000",
          "2025-02-22T23:00:00.000000000",
          "2025-02-23T00:00:00.000000000",
          "2025-02-23T01:00:00.000000000",
          "2025-02-23T02:00:00.000000000",
          "2025-02-23T03:00:00.000000000",
          "2025-02-23T04:00:00.000000000",
          "2025-02-23T05:00:00.000000000",
          "2025-02-23T06:00:00.000000000",
          "2025-02-23T07:00:00.000000000",
          "2025-02-23T08:00:00.000000000",
          "2025-02-23T09:00:00.000000000",
          "2025-02-23T10:00:00.000000000",
          "2025-02-23T11:00:00.000000000",
          "2025-02-23T12:00:00.000000000",
          "2025-02-23T13:00:00.000000000",
          "2025-02-23T14:00:00.000000000",
          "2025-02-23T15:00:00.000000000",
          "2025-02-23T16:00:00.000000000",
          "2025-02-23T17:00:00.000000000",
          "2025-02-23T18:00:00.000000000",
          "2025-02-23T19:00:00.000000000",
          "2025-02-23T20:00:00.000000000",
          "2025-02-23T21:00:00.000000000",
          "2025-02-23T22:00:00.000000000",
          "2025-02-23T23:00:00.000000000",
          "2025-02-24T00:00:00.000000000",
          "2025-02-24T01:00:00.000000000",
          "2025-02-24T02:00:00.000000000",
          "2025-02-24T03:00:00.000000000",
          "2025-02-24T04:00:00.000000000",
          "2025-02-24T05:00:00.000000000",
          "2025-02-24T06:00:00.000000000",
          "2025-02-24T07:00:00.000000000",
          "2025-02-24T08:00:00.000000000",
          "2025-02-24T09:00:00.000000000",
          "2025-02-24T10:00:00.000000000",
          "2025-02-24T11:00:00.000000000",
          "2025-02-24T12:00:00.000000000",
          "2025-02-24T13:00:00.000000000",
          "2025-02-24T14:00:00.000000000",
          "2025-02-24T15:00:00.000000000",
          "2025-02-24T16:00:00.000000000",
          "2025-02-24T17:00:00.000000000",
          "2025-02-24T18:00:00.000000000",
          "2025-02-24T19:00:00.000000000",
          "2025-02-24T20:00:00.000000000",
          "2025-02-24T21:00:00.000000000",
          "2025-02-24T22:00:00.000000000",
          "2025-02-24T23:00:00.000000000",
          "2025-02-25T00:00:00.000000000",
          "2025-02-25T01:00:00.000000000",
          "2025-02-25T02:00:00.000000000",
          "2025-02-25T03:00:00.000000000",
          "2025-02-25T04:00:00.000000000",
          "2025-02-25T05:00:00.000000000",
          "2025-02-25T06:00:00.000000000",
          "2025-02-25T07:00:00.000000000",
          "2025-02-25T08:00:00.000000000",
          "2025-02-25T09:00:00.000000000",
          "2025-02-25T10:00:00.000000000",
          "2025-02-25T11:00:00.000000000",
          "2025-02-25T12:00:00.000000000",
          "2025-02-25T13:00:00.000000000",
          "2025-02-25T14:00:00.000000000",
          "2025-02-25T15:00:00.000000000",
          "2025-02-25T16:00:00.000000000",
          "2025-02-25T17:00:00.000000000",
          "2025-02-25T18:00:00.000000000",
          "2025-02-25T19:00:00.000000000",
          "2025-02-25T20:00:00.000000000",
          "2025-02-25T21:00:00.000000000",
          "2025-02-25T22:00:00.000000000",
          "2025-02-25T23:00:00.000000000",
          "2025-02-26T00:00:00.000000000",
          "2025-02-26T01:00:00.000000000",
          "2025-02-26T02:00:00.000000000",
          "2025-02-26T03:00:00.000000000",
          "2025-02-26T04:00:00.000000000",
          "2025-02-26T05:00:00.000000000",
          "2025-02-26T06:00:00.000000000",
          "2025-02-26T07:00:00.000000000",
          "2025-02-26T08:00:00.000000000",
          "2025-02-26T09:00:00.000000000",
          "2025-02-26T10:00:00.000000000",
          "2025-02-26T11:00:00.000000000",
          "2025-02-26T12:00:00.000000000",
          "2025-02-26T13:00:00.000000000",
          "2025-02-26T14:00:00.000000000",
          "2025-02-26T15:00:00.000000000",
          "2025-02-26T16:00:00.000000000",
          "2025-02-26T17:00:00.000000000",
          "2025-02-26T18:00:00.000000000",
          "2025-02-26T19:00:00.000000000",
          "2025-02-26T20:00:00.000000000",
          "2025-02-26T21:00:00.000000000",
          "2025-02-26T22:00:00.000000000",
          "2025-02-26T23:00:00.000000000",
          "2025-02-27T00:00:00.000000000",
          "2025-02-27T01:00:00.000000000",
          "2025-02-27T02:00:00.000000000",
          "2025-02-27T03:00:00.000000000",
          "2025-02-27T04:00:00.000000000",
          "2025-02-27T05:00:00.000000000",
          "2025-02-27T06:00:00.000000000",
          "2025-02-27T07:00:00.000000000",
          "2025-02-27T08:00:00.000000000",
          "2025-02-27T09:00:00.000000000",
          "2025-02-27T10:00:00.000000000",
          "2025-02-27T11:00:00.000000000",
          "2025-02-27T12:00:00.000000000",
          "2025-02-27T13:00:00.000000000",
          "2025-02-27T14:00:00.000000000",
          "2025-02-27T15:00:00.000000000",
          "2025-02-27T16:00:00.000000000",
          "2025-02-27T17:00:00.000000000",
          "2025-02-27T18:00:00.000000000",
          "2025-02-27T19:00:00.000000000",
          "2025-02-27T20:00:00.000000000",
          "2025-02-27T21:00:00.000000000",
          "2025-02-27T22:00:00.000000000",
          "2025-02-27T23:00:00.000000000",
          "2025-02-28T00:00:00.000000000",
          "2025-02-28T01:00:00.000000000",
          "2025-02-28T02:00:00.000000000",
          "2025-02-28T03:00:00.000000000",
          "2025-02-28T04:00:00.000000000",
          "2025-02-28T05:00:00.000000000",
          "2025-02-28T06:00:00.000000000",
          "2025-02-28T07:00:00.000000000",
          "2025-02-28T08:00:00.000000000",
          "2025-02-28T09:00:00.000000000",
          "2025-02-28T10:00:00.000000000",
          "2025-02-28T11:00:00.000000000",
          "2025-02-28T12:00:00.000000000",
          "2025-02-28T13:00:00.000000000",
          "2025-02-28T14:00:00.000000000",
          "2025-02-28T15:00:00.000000000",
          "2025-02-28T16:00:00.000000000",
          "2025-02-28T17:00:00.000000000",
          "2025-02-28T18:00:00.000000000",
          "2025-02-28T19:00:00.000000000",
          "2025-02-28T20:00:00.000000000",
          "2025-02-28T21:00:00.000000000",
          "2025-02-28T22:00:00.000000000",
          "2025-02-28T23:00:00.000000000",
          "2025-03-01T00:00:00.000000000",
          "2025-03-01T01:00:00.000000000",
          "2025-03-01T02:00:00.000000000",
          "2025-03-01T03:00:00.000000000",
          "2025-03-01T04:00:00.000000000",
          "2025-03-01T05:00:00.000000000",
          "2025-03-01T06:00:00.000000000",
          "2025-03-01T07:00:00.000000000",
          "2025-03-01T08:00:00.000000000",
          "2025-03-01T09:00:00.000000000",
          "2025-03-01T10:00:00.000000000",
          "2025-03-01T11:00:00.000000000",
          "2025-03-01T12:00:00.000000000",
          "2025-03-01T13:00:00.000000000",
          "2025-03-01T14:00:00.000000000",
          "2025-03-01T15:00:00.000000000",
          "2025-03-01T16:00:00.000000000",
          "2025-03-01T17:00:00.000000000",
          "2025-03-01T18:00:00.000000000",
          "2025-03-01T19:00:00.000000000",
          "2025-03-01T20:00:00.000000000",
          "2025-03-01T21:00:00.000000000",
          "2025-03-01T22:00:00.000000000",
          "2025-03-01T23:00:00.000000000",
          "2025-03-02T00:00:00.000000000",
          "2025-03-02T01:00:00.000000000",
          "2025-03-02T02:00:00.000000000",
          "2025-03-02T03:00:00.000000000",
          "2025-03-02T04:00:00.000000000",
          "2025-03-02T05:00:00.000000000"
         ],
         "xaxis": "x",
         "y": {
          "bdata": "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",
          "dtype": "f8"
         },
         "yaxis": "y"
        },
        {
         "line": {
          "color": "red"
         },
         "marker": {
          "size": 10,
          "symbol": "x"
         },
         "mode": "markers",
         "name": "Prediction",
         "type": "scatter",
         "x": [
          "2025-03-02T05:00:00"
         ],
         "y": [
          96
         ]
        }
       ],
       "layout": {
        "legend": {
         "tracegroupgap": 0
        },
        "template": {
         "data": {
          "bar": [
           {
            "error_x": {
             "color": "#2a3f5f"
            },
            "error_y": {
             "color": "#2a3f5f"
            },
            "marker": {
             "line": {
              "color": "white",
              "width": 0.5
             },
             "pattern": {
              "fillmode": "overlay",
              "size": 10,
              "solidity": 0.2
             }
            },
            "type": "bar"
           }
          ],
          "barpolar": [
           {
            "marker": {
             "line": {
              "color": "white",
              "width": 0.5
             },
             "pattern": {
              "fillmode": "overlay",
              "size": 10,
              "solidity": 0.2
             }
            },
            "type": "barpolar"
           }
          ],
          "carpet": [
           {
            "aaxis": {
             "endlinecolor": "#2a3f5f",
             "gridcolor": "#C8D4E3",
             "linecolor": "#C8D4E3",
             "minorgridcolor": "#C8D4E3",
             "startlinecolor": "#2a3f5f"
            },
            "baxis": {
             "endlinecolor": "#2a3f5f",
             "gridcolor": "#C8D4E3",
             "linecolor": "#C8D4E3",
             "minorgridcolor": "#C8D4E3",
             "startlinecolor": "#2a3f5f"
            },
            "type": "carpet"
           }
          ],
          "choropleth": [
           {
            "colorbar": {
             "outlinewidth": 0,
             "ticks": ""
            },
            "type": "choropleth"
           }
          ],
          "contour": [
           {
            "colorbar": {
             "outlinewidth": 0,
             "ticks": ""
            },
            "colorscale": [
             [
              0,
              "#0d0887"
             ],
             [
              0.1111111111111111,
              "#46039f"
             ],
             [
              0.2222222222222222,
              "#7201a8"
             ],
             [
              0.3333333333333333,
              "#9c179e"
             ],
             [
              0.4444444444444444,
              "#bd3786"
             ],
             [
              0.5555555555555556,
              "#d8576b"
             ],
             [
              0.6666666666666666,
              "#ed7953"
             ],
             [
              0.7777777777777778,
              "#fb9f3a"
             ],
             [
              0.8888888888888888,
              "#fdca26"
             ],
             [
              1,
              "#f0f921"
             ]
            ],
            "type": "contour"
           }
          ],
          "contourcarpet": [
           {
            "colorbar": {
             "outlinewidth": 0,
             "ticks": ""
            },
            "type": "contourcarpet"
           }
          ],
          "heatmap": [
           {
            "colorbar": {
             "outlinewidth": 0,
             "ticks": ""
            },
            "colorscale": [
             [
              0,
              "#0d0887"
             ],
             [
              0.1111111111111111,
              "#46039f"
             ],
             [
              0.2222222222222222,
              "#7201a8"
             ],
             [
              0.3333333333333333,
              "#9c179e"
             ],
             [
              0.4444444444444444,
              "#bd3786"
             ],
             [
              0.5555555555555556,
              "#d8576b"
             ],
             [
              0.6666666666666666,
              "#ed7953"
             ],
             [
              0.7777777777777778,
              "#fb9f3a"
             ],
             [
              0.8888888888888888,
              "#fdca26"
             ],
             [
              1,
              "#f0f921"
             ]
            ],
            "type": "heatmap"
           }
          ],
          "histogram": [
           {
            "marker": {
             "pattern": {
              "fillmode": "overlay",
              "size": 10,
              "solidity": 0.2
             }
            },
            "type": "histogram"
           }
          ],
          "histogram2d": [
           {
            "colorbar": {
             "outlinewidth": 0,
             "ticks": ""
            },
            "colorscale": [
             [
              0,
              "#0d0887"
             ],
             [
              0.1111111111111111,
              "#46039f"
             ],
             [
              0.2222222222222222,
              "#7201a8"
             ],
             [
              0.3333333333333333,
              "#9c179e"
             ],
             [
              0.4444444444444444,
              "#bd3786"
             ],
             [
              0.5555555555555556,
              "#d8576b"
             ],
             [
              0.6666666666666666,
              "#ed7953"
             ],
             [
              0.7777777777777778,
              "#fb9f3a"
             ],
             [
              0.8888888888888888,
              "#fdca26"
             ],
             [
              1,
              "#f0f921"
             ]
            ],
            "type": "histogram2d"
           }
          ],
          "histogram2dcontour": [
           {
            "colorbar": {
             "outlinewidth": 0,
             "ticks": ""
            },
            "colorscale": [
             [
              0,
              "#0d0887"
             ],
             [
              0.1111111111111111,
              "#46039f"
             ],
             [
              0.2222222222222222,
              "#7201a8"
             ],
             [
              0.3333333333333333,
              "#9c179e"
             ],
             [
              0.4444444444444444,
              "#bd3786"
             ],
             [
              0.5555555555555556,
              "#d8576b"
             ],
             [
              0.6666666666666666,
              "#ed7953"
             ],
             [
              0.7777777777777778,
              "#fb9f3a"
             ],
             [
              0.8888888888888888,
              "#fdca26"
             ],
             [
              1,
              "#f0f921"
             ]
            ],
            "type": "histogram2dcontour"
           }
          ],
          "mesh3d": [
           {
            "colorbar": {
             "outlinewidth": 0,
             "ticks": ""
            },
            "type": "mesh3d"
           }
          ],
          "parcoords": [
           {
            "line": {
             "colorbar": {
              "outlinewidth": 0,
              "ticks": ""
             }
            },
            "type": "parcoords"
           }
          ],
          "pie": [
           {
            "automargin": true,
            "type": "pie"
           }
          ],
          "scatter": [
           {
            "fillpattern": {
             "fillmode": "overlay",
             "size": 10,
             "solidity": 0.2
            },
            "type": "scatter"
           }
          ],
          "scatter3d": [
           {
            "line": {
             "colorbar": {
              "outlinewidth": 0,
              "ticks": ""
             }
            },
            "marker": {
             "colorbar": {
              "outlinewidth": 0,
              "ticks": ""
             }
            },
            "type": "scatter3d"
           }
          ],
          "scattercarpet": [
           {
            "marker": {
             "colorbar": {
              "outlinewidth": 0,
              "ticks": ""
             }
            },
            "type": "scattercarpet"
           }
          ],
          "scattergeo": [
           {
            "marker": {
             "colorbar": {
              "outlinewidth": 0,
              "ticks": ""
             }
            },
            "type": "scattergeo"
           }
          ],
          "scattergl": [
           {
            "marker": {
             "colorbar": {
              "outlinewidth": 0,
              "ticks": ""
             }
            },
            "type": "scattergl"
           }
          ],
          "scattermap": [
           {
            "marker": {
             "colorbar": {
              "outlinewidth": 0,
              "ticks": ""
             }
            },
            "type": "scattermap"
           }
          ],
          "scattermapbox": [
           {
            "marker": {
             "colorbar": {
              "outlinewidth": 0,
              "ticks": ""
             }
            },
            "type": "scattermapbox"
           }
          ],
          "scatterpolar": [
           {
            "marker": {
             "colorbar": {
              "outlinewidth": 0,
              "ticks": ""
             }
            },
            "type": "scatterpolar"
           }
          ],
          "scatterpolargl": [
           {
            "marker": {
             "colorbar": {
              "outlinewidth": 0,
              "ticks": ""
             }
            },
            "type": "scatterpolargl"
           }
          ],
          "scatterternary": [
           {
            "marker": {
             "colorbar": {
              "outlinewidth": 0,
              "ticks": ""
             }
            },
            "type": "scatterternary"
           }
          ],
          "surface": [
           {
            "colorbar": {
             "outlinewidth": 0,
             "ticks": ""
            },
            "colorscale": [
             [
              0,
              "#0d0887"
             ],
             [
              0.1111111111111111,
              "#46039f"
             ],
             [
              0.2222222222222222,
              "#7201a8"
             ],
             [
              0.3333333333333333,
              "#9c179e"
             ],
             [
              0.4444444444444444,
              "#bd3786"
             ],
             [
              0.5555555555555556,
              "#d8576b"
             ],
             [
              0.6666666666666666,
              "#ed7953"
             ],
             [
              0.7777777777777778,
              "#fb9f3a"
             ],
             [
              0.8888888888888888,
              "#fdca26"
             ],
             [
              1,
              "#f0f921"
             ]
            ],
            "type": "surface"
           }
          ],
          "table": [
           {
            "cells": {
             "fill": {
              "color": "#EBF0F8"
             },
             "line": {
              "color": "white"
             }
            },
            "header": {
             "fill": {
              "color": "#C8D4E3"
             },
             "line": {
              "color": "white"
             }
            },
            "type": "table"
           }
          ]
         },
         "layout": {
          "annotationdefaults": {
           "arrowcolor": "#2a3f5f",
           "arrowhead": 0,
           "arrowwidth": 1
          },
          "autotypenumbers": "strict",
          "coloraxis": {
           "colorbar": {
            "outlinewidth": 0,
            "ticks": ""
           }
          },
          "colorscale": {
           "diverging": [
            [
             0,
             "#8e0152"
            ],
            [
             0.1,
             "#c51b7d"
            ],
            [
             0.2,
             "#de77ae"
            ],
            [
             0.3,
             "#f1b6da"
            ],
            [
             0.4,
             "#fde0ef"
            ],
            [
             0.5,
             "#f7f7f7"
            ],
            [
             0.6,
             "#e6f5d0"
            ],
            [
             0.7,
             "#b8e186"
            ],
            [
             0.8,
             "#7fbc41"
            ],
            [
             0.9,
             "#4d9221"
            ],
            [
             1,
             "#276419"
            ]
           ],
           "sequential": [
            [
             0,
             "#0d0887"
            ],
            [
             0.1111111111111111,
             "#46039f"
            ],
            [
             0.2222222222222222,
             "#7201a8"
            ],
            [
             0.3333333333333333,
             "#9c179e"
            ],
            [
             0.4444444444444444,
             "#bd3786"
            ],
            [
             0.5555555555555556,
             "#d8576b"
            ],
            [
             0.6666666666666666,
             "#ed7953"
            ],
            [
             0.7777777777777778,
             "#fb9f3a"
            ],
            [
             0.8888888888888888,
             "#fdca26"
            ],
            [
             1,
             "#f0f921"
            ]
           ],
           "sequentialminus": [
            [
             0,
             "#0d0887"
            ],
            [
             0.1111111111111111,
             "#46039f"
            ],
            [
             0.2222222222222222,
             "#7201a8"
            ],
            [
             0.3333333333333333,
             "#9c179e"
            ],
            [
             0.4444444444444444,
             "#bd3786"
            ],
            [
             0.5555555555555556,
             "#d8576b"
            ],
            [
             0.6666666666666666,
             "#ed7953"
            ],
            [
             0.7777777777777778,
             "#fb9f3a"
            ],
            [
             0.8888888888888888,
             "#fdca26"
            ],
            [
             1,
             "#f0f921"
            ]
           ]
          },
          "colorway": [
           "#636efa",
           "#EF553B",
           "#00cc96",
           "#ab63fa",
           "#FFA15A",
           "#19d3f3",
           "#FF6692",
           "#B6E880",
           "#FF97FF",
           "#FECB52"
          ],
          "font": {
           "color": "#2a3f5f"
          },
          "geo": {
           "bgcolor": "white",
           "lakecolor": "white",
           "landcolor": "white",
           "showlakes": true,
           "showland": true,
           "subunitcolor": "#C8D4E3"
          },
          "hoverlabel": {
           "align": "left"
          },
          "hovermode": "closest",
          "mapbox": {
           "style": "light"
          },
          "paper_bgcolor": "white",
          "plot_bgcolor": "white",
          "polar": {
           "angularaxis": {
            "gridcolor": "#EBF0F8",
            "linecolor": "#EBF0F8",
            "ticks": ""
           },
           "bgcolor": "white",
           "radialaxis": {
            "gridcolor": "#EBF0F8",
            "linecolor": "#EBF0F8",
            "ticks": ""
           }
          },
          "scene": {
           "xaxis": {
            "backgroundcolor": "white",
            "gridcolor": "#DFE8F3",
            "gridwidth": 2,
            "linecolor": "#EBF0F8",
            "showbackground": true,
            "ticks": "",
            "zerolinecolor": "#EBF0F8"
           },
           "yaxis": {
            "backgroundcolor": "white",
            "gridcolor": "#DFE8F3",
            "gridwidth": 2,
            "linecolor": "#EBF0F8",
            "showbackground": true,
            "ticks": "",
            "zerolinecolor": "#EBF0F8"
           },
           "zaxis": {
            "backgroundcolor": "white",
            "gridcolor": "#DFE8F3",
            "gridwidth": 2,
            "linecolor": "#EBF0F8",
            "showbackground": true,
            "ticks": "",
            "zerolinecolor": "#EBF0F8"
           }
          },
          "shapedefaults": {
           "line": {
            "color": "#2a3f5f"
           }
          },
          "ternary": {
           "aaxis": {
            "gridcolor": "#DFE8F3",
            "linecolor": "#A2B1C6",
            "ticks": ""
           },
           "baxis": {
            "gridcolor": "#DFE8F3",
            "linecolor": "#A2B1C6",
            "ticks": ""
           },
           "bgcolor": "white",
           "caxis": {
            "gridcolor": "#DFE8F3",
            "linecolor": "#A2B1C6",
            "ticks": ""
           }
          },
          "title": {
           "x": 0.05
          },
          "xaxis": {
           "automargin": true,
           "gridcolor": "#EBF0F8",
           "linecolor": "#EBF0F8",
           "ticks": "",
           "title": {
            "standoff": 15
           },
           "zerolinecolor": "#EBF0F8",
           "zerolinewidth": 2
          },
          "yaxis": {
           "automargin": true,
           "gridcolor": "#EBF0F8",
           "linecolor": "#EBF0F8",
           "ticks": "",
           "title": {
            "standoff": 15
           },
           "zerolinecolor": "#EBF0F8",
           "zerolinewidth": 2
          }
         }
        },
        "title": {
         "text": "Pickup Hour: 2025-03-02 05:00:00, Location ID: 263"
        },
        "xaxis": {
         "anchor": "y",
         "domain": [
          0,
          1
         ],
         "title": {
          "text": "Time"
         }
        },
        "yaxis": {
         "anchor": "x",
         "domain": [
          0,
          1
         ],
         "title": {
          "text": "Ride Counts"
         }
        }
       }
      }
     },
     "metadata": {},
     "output_type": "display_data"
    }
   ],
   "source": [
    "from src.plot_utils import plot_prediction\n",
    "\n",
    "\n",
    "\n",
    "plot_prediction(\n",
    "        features=features[features[\"pickup_location_id\"] == 263],\n",
    "        prediction=predictions[predictions[\"pickup_location_id\"] == 263]\n",
    ")"
   ]
  },
  {
   "cell_type": "code",
   "execution_count": 16,
   "metadata": {},
   "outputs": [
    {
     "data": {
      "text/html": [
       "<div>\n",
       "<style scoped>\n",
       "    .dataframe tbody tr th:only-of-type {\n",
       "        vertical-align: middle;\n",
       "    }\n",
       "\n",
       "    .dataframe tbody tr th {\n",
       "        vertical-align: top;\n",
       "    }\n",
       "\n",
       "    .dataframe thead th {\n",
       "        text-align: right;\n",
       "    }\n",
       "</style>\n",
       "<table border=\"1\" class=\"dataframe\">\n",
       "  <thead>\n",
       "    <tr style=\"text-align: right;\">\n",
       "      <th></th>\n",
       "      <th>rides_t-672</th>\n",
       "      <th>rides_t-671</th>\n",
       "      <th>rides_t-670</th>\n",
       "      <th>rides_t-669</th>\n",
       "      <th>rides_t-668</th>\n",
       "      <th>rides_t-667</th>\n",
       "      <th>rides_t-666</th>\n",
       "      <th>rides_t-665</th>\n",
       "      <th>rides_t-664</th>\n",
       "      <th>rides_t-663</th>\n",
       "      <th>...</th>\n",
       "      <th>rides_t-8</th>\n",
       "      <th>rides_t-7</th>\n",
       "      <th>rides_t-6</th>\n",
       "      <th>rides_t-5</th>\n",
       "      <th>rides_t-4</th>\n",
       "      <th>rides_t-3</th>\n",
       "      <th>rides_t-2</th>\n",
       "      <th>rides_t-1</th>\n",
       "      <th>pickup_hour</th>\n",
       "      <th>pickup_location_id</th>\n",
       "    </tr>\n",
       "  </thead>\n",
       "  <tbody>\n",
       "    <tr>\n",
       "      <th>0</th>\n",
       "      <td>0</td>\n",
       "      <td>0</td>\n",
       "      <td>0</td>\n",
       "      <td>0</td>\n",
       "      <td>0</td>\n",
       "      <td>0</td>\n",
       "      <td>0</td>\n",
       "      <td>0</td>\n",
       "      <td>0</td>\n",
       "      <td>0</td>\n",
       "      <td>...</td>\n",
       "      <td>0</td>\n",
       "      <td>0</td>\n",
       "      <td>0</td>\n",
       "      <td>0</td>\n",
       "      <td>0</td>\n",
       "      <td>0</td>\n",
       "      <td>0</td>\n",
       "      <td>0</td>\n",
       "      <td>2025-03-02 05:00:00</td>\n",
       "      <td>2</td>\n",
       "    </tr>\n",
       "    <tr>\n",
       "      <th>1</th>\n",
       "      <td>0</td>\n",
       "      <td>0</td>\n",
       "      <td>0</td>\n",
       "      <td>0</td>\n",
       "      <td>0</td>\n",
       "      <td>0</td>\n",
       "      <td>0</td>\n",
       "      <td>0</td>\n",
       "      <td>0</td>\n",
       "      <td>0</td>\n",
       "      <td>...</td>\n",
       "      <td>0</td>\n",
       "      <td>0</td>\n",
       "      <td>0</td>\n",
       "      <td>0</td>\n",
       "      <td>0</td>\n",
       "      <td>0</td>\n",
       "      <td>0</td>\n",
       "      <td>0</td>\n",
       "      <td>2025-03-02 05:00:00</td>\n",
       "      <td>3</td>\n",
       "    </tr>\n",
       "    <tr>\n",
       "      <th>2</th>\n",
       "      <td>0</td>\n",
       "      <td>0</td>\n",
       "      <td>0</td>\n",
       "      <td>0</td>\n",
       "      <td>0</td>\n",
       "      <td>0</td>\n",
       "      <td>0</td>\n",
       "      <td>0</td>\n",
       "      <td>0</td>\n",
       "      <td>0</td>\n",
       "      <td>...</td>\n",
       "      <td>11</td>\n",
       "      <td>14</td>\n",
       "      <td>50</td>\n",
       "      <td>68</td>\n",
       "      <td>62</td>\n",
       "      <td>65</td>\n",
       "      <td>43</td>\n",
       "      <td>15</td>\n",
       "      <td>2025-03-02 05:00:00</td>\n",
       "      <td>4</td>\n",
       "    </tr>\n",
       "    <tr>\n",
       "      <th>3</th>\n",
       "      <td>0</td>\n",
       "      <td>0</td>\n",
       "      <td>0</td>\n",
       "      <td>0</td>\n",
       "      <td>0</td>\n",
       "      <td>0</td>\n",
       "      <td>0</td>\n",
       "      <td>0</td>\n",
       "      <td>0</td>\n",
       "      <td>0</td>\n",
       "      <td>...</td>\n",
       "      <td>0</td>\n",
       "      <td>0</td>\n",
       "      <td>0</td>\n",
       "      <td>0</td>\n",
       "      <td>0</td>\n",
       "      <td>0</td>\n",
       "      <td>0</td>\n",
       "      <td>0</td>\n",
       "      <td>2025-03-02 05:00:00</td>\n",
       "      <td>6</td>\n",
       "    </tr>\n",
       "    <tr>\n",
       "      <th>4</th>\n",
       "      <td>0</td>\n",
       "      <td>0</td>\n",
       "      <td>0</td>\n",
       "      <td>0</td>\n",
       "      <td>0</td>\n",
       "      <td>0</td>\n",
       "      <td>0</td>\n",
       "      <td>0</td>\n",
       "      <td>0</td>\n",
       "      <td>0</td>\n",
       "      <td>...</td>\n",
       "      <td>2</td>\n",
       "      <td>1</td>\n",
       "      <td>2</td>\n",
       "      <td>3</td>\n",
       "      <td>1</td>\n",
       "      <td>1</td>\n",
       "      <td>3</td>\n",
       "      <td>3</td>\n",
       "      <td>2025-03-02 05:00:00</td>\n",
       "      <td>7</td>\n",
       "    </tr>\n",
       "    <tr>\n",
       "      <th>...</th>\n",
       "      <td>...</td>\n",
       "      <td>...</td>\n",
       "      <td>...</td>\n",
       "      <td>...</td>\n",
       "      <td>...</td>\n",
       "      <td>...</td>\n",
       "      <td>...</td>\n",
       "      <td>...</td>\n",
       "      <td>...</td>\n",
       "      <td>...</td>\n",
       "      <td>...</td>\n",
       "      <td>...</td>\n",
       "      <td>...</td>\n",
       "      <td>...</td>\n",
       "      <td>...</td>\n",
       "      <td>...</td>\n",
       "      <td>...</td>\n",
       "      <td>...</td>\n",
       "      <td>...</td>\n",
       "      <td>...</td>\n",
       "      <td>...</td>\n",
       "    </tr>\n",
       "    <tr>\n",
       "      <th>251</th>\n",
       "      <td>0</td>\n",
       "      <td>0</td>\n",
       "      <td>0</td>\n",
       "      <td>0</td>\n",
       "      <td>0</td>\n",
       "      <td>0</td>\n",
       "      <td>0</td>\n",
       "      <td>0</td>\n",
       "      <td>0</td>\n",
       "      <td>0</td>\n",
       "      <td>...</td>\n",
       "      <td>0</td>\n",
       "      <td>0</td>\n",
       "      <td>0</td>\n",
       "      <td>0</td>\n",
       "      <td>0</td>\n",
       "      <td>0</td>\n",
       "      <td>0</td>\n",
       "      <td>0</td>\n",
       "      <td>2025-03-02 05:00:00</td>\n",
       "      <td>259</td>\n",
       "    </tr>\n",
       "    <tr>\n",
       "      <th>252</th>\n",
       "      <td>0</td>\n",
       "      <td>0</td>\n",
       "      <td>0</td>\n",
       "      <td>0</td>\n",
       "      <td>0</td>\n",
       "      <td>0</td>\n",
       "      <td>0</td>\n",
       "      <td>0</td>\n",
       "      <td>0</td>\n",
       "      <td>0</td>\n",
       "      <td>...</td>\n",
       "      <td>1</td>\n",
       "      <td>0</td>\n",
       "      <td>1</td>\n",
       "      <td>0</td>\n",
       "      <td>0</td>\n",
       "      <td>0</td>\n",
       "      <td>0</td>\n",
       "      <td>0</td>\n",
       "      <td>2025-03-02 05:00:00</td>\n",
       "      <td>260</td>\n",
       "    </tr>\n",
       "    <tr>\n",
       "      <th>253</th>\n",
       "      <td>0</td>\n",
       "      <td>0</td>\n",
       "      <td>0</td>\n",
       "      <td>0</td>\n",
       "      <td>0</td>\n",
       "      <td>0</td>\n",
       "      <td>0</td>\n",
       "      <td>0</td>\n",
       "      <td>0</td>\n",
       "      <td>0</td>\n",
       "      <td>...</td>\n",
       "      <td>20</td>\n",
       "      <td>11</td>\n",
       "      <td>14</td>\n",
       "      <td>7</td>\n",
       "      <td>12</td>\n",
       "      <td>7</td>\n",
       "      <td>10</td>\n",
       "      <td>2</td>\n",
       "      <td>2025-03-02 05:00:00</td>\n",
       "      <td>261</td>\n",
       "    </tr>\n",
       "    <tr>\n",
       "      <th>254</th>\n",
       "      <td>0</td>\n",
       "      <td>0</td>\n",
       "      <td>0</td>\n",
       "      <td>0</td>\n",
       "      <td>0</td>\n",
       "      <td>0</td>\n",
       "      <td>0</td>\n",
       "      <td>0</td>\n",
       "      <td>0</td>\n",
       "      <td>0</td>\n",
       "      <td>...</td>\n",
       "      <td>26</td>\n",
       "      <td>28</td>\n",
       "      <td>18</td>\n",
       "      <td>7</td>\n",
       "      <td>5</td>\n",
       "      <td>5</td>\n",
       "      <td>2</td>\n",
       "      <td>5</td>\n",
       "      <td>2025-03-02 05:00:00</td>\n",
       "      <td>262</td>\n",
       "    </tr>\n",
       "    <tr>\n",
       "      <th>255</th>\n",
       "      <td>0</td>\n",
       "      <td>0</td>\n",
       "      <td>0</td>\n",
       "      <td>0</td>\n",
       "      <td>0</td>\n",
       "      <td>0</td>\n",
       "      <td>0</td>\n",
       "      <td>0</td>\n",
       "      <td>0</td>\n",
       "      <td>0</td>\n",
       "      <td>...</td>\n",
       "      <td>154</td>\n",
       "      <td>137</td>\n",
       "      <td>90</td>\n",
       "      <td>82</td>\n",
       "      <td>49</td>\n",
       "      <td>41</td>\n",
       "      <td>29</td>\n",
       "      <td>17</td>\n",
       "      <td>2025-03-02 05:00:00</td>\n",
       "      <td>263</td>\n",
       "    </tr>\n",
       "  </tbody>\n",
       "</table>\n",
       "<p>256 rows × 674 columns</p>\n",
       "</div>"
      ],
      "text/plain": [
       "     rides_t-672  rides_t-671  rides_t-670  rides_t-669  rides_t-668  \\\n",
       "0              0            0            0            0            0   \n",
       "1              0            0            0            0            0   \n",
       "2              0            0            0            0            0   \n",
       "3              0            0            0            0            0   \n",
       "4              0            0            0            0            0   \n",
       "..           ...          ...          ...          ...          ...   \n",
       "251            0            0            0            0            0   \n",
       "252            0            0            0            0            0   \n",
       "253            0            0            0            0            0   \n",
       "254            0            0            0            0            0   \n",
       "255            0            0            0            0            0   \n",
       "\n",
       "     rides_t-667  rides_t-666  rides_t-665  rides_t-664  rides_t-663  ...  \\\n",
       "0              0            0            0            0            0  ...   \n",
       "1              0            0            0            0            0  ...   \n",
       "2              0            0            0            0            0  ...   \n",
       "3              0            0            0            0            0  ...   \n",
       "4              0            0            0            0            0  ...   \n",
       "..           ...          ...          ...          ...          ...  ...   \n",
       "251            0            0            0            0            0  ...   \n",
       "252            0            0            0            0            0  ...   \n",
       "253            0            0            0            0            0  ...   \n",
       "254            0            0            0            0            0  ...   \n",
       "255            0            0            0            0            0  ...   \n",
       "\n",
       "     rides_t-8  rides_t-7  rides_t-6  rides_t-5  rides_t-4  rides_t-3  \\\n",
       "0            0          0          0          0          0          0   \n",
       "1            0          0          0          0          0          0   \n",
       "2           11         14         50         68         62         65   \n",
       "3            0          0          0          0          0          0   \n",
       "4            2          1          2          3          1          1   \n",
       "..         ...        ...        ...        ...        ...        ...   \n",
       "251          0          0          0          0          0          0   \n",
       "252          1          0          1          0          0          0   \n",
       "253         20         11         14          7         12          7   \n",
       "254         26         28         18          7          5          5   \n",
       "255        154        137         90         82         49         41   \n",
       "\n",
       "     rides_t-2  rides_t-1         pickup_hour  pickup_location_id  \n",
       "0            0          0 2025-03-02 05:00:00                   2  \n",
       "1            0          0 2025-03-02 05:00:00                   3  \n",
       "2           43         15 2025-03-02 05:00:00                   4  \n",
       "3            0          0 2025-03-02 05:00:00                   6  \n",
       "4            3          3 2025-03-02 05:00:00                   7  \n",
       "..         ...        ...                 ...                 ...  \n",
       "251          0          0 2025-03-02 05:00:00                 259  \n",
       "252          0          0 2025-03-02 05:00:00                 260  \n",
       "253         10          2 2025-03-02 05:00:00                 261  \n",
       "254          2          5 2025-03-02 05:00:00                 262  \n",
       "255         29         17 2025-03-02 05:00:00                 263  \n",
       "\n",
       "[256 rows x 674 columns]"
      ]
     },
     "execution_count": 16,
     "metadata": {},
     "output_type": "execute_result"
    }
   ],
   "source": [
    "features"
   ]
  },
  {
   "cell_type": "code",
   "execution_count": 17,
   "metadata": {},
   "outputs": [
    {
     "data": {
      "text/html": [
       "<div>\n",
       "<style scoped>\n",
       "    .dataframe tbody tr th:only-of-type {\n",
       "        vertical-align: middle;\n",
       "    }\n",
       "\n",
       "    .dataframe tbody tr th {\n",
       "        vertical-align: top;\n",
       "    }\n",
       "\n",
       "    .dataframe thead th {\n",
       "        text-align: right;\n",
       "    }\n",
       "</style>\n",
       "<table border=\"1\" class=\"dataframe\">\n",
       "  <thead>\n",
       "    <tr style=\"text-align: right;\">\n",
       "      <th></th>\n",
       "      <th>pickup_location_id</th>\n",
       "      <th>predicted_demand</th>\n",
       "      <th>pickup_hour</th>\n",
       "    </tr>\n",
       "  </thead>\n",
       "  <tbody>\n",
       "    <tr>\n",
       "      <th>513</th>\n",
       "      <td>263</td>\n",
       "      <td>96.0</td>\n",
       "      <td>2025-03-02 23:00:00</td>\n",
       "    </tr>\n",
       "  </tbody>\n",
       "</table>\n",
       "</div>"
      ],
      "text/plain": [
       "     pickup_location_id  predicted_demand         pickup_hour\n",
       "513                 263              96.0 2025-03-02 23:00:00"
      ]
     },
     "execution_count": 17,
     "metadata": {},
     "output_type": "execute_result"
    }
   ],
   "source": [
    "predictions[predictions[\"pickup_location_id\"] == 263]"
   ]
  }
 ],
 "metadata": {
  "kernelspec": {
   "display_name": "sp25_taxi",
   "language": "python",
   "name": "python3"
  },
  "language_info": {
   "codemirror_mode": {
    "name": "ipython",
    "version": 3
   },
   "file_extension": ".py",
   "mimetype": "text/x-python",
   "name": "python",
   "nbconvert_exporter": "python",
   "pygments_lexer": "ipython3",
   "version": "3.11.11"
  }
 },
 "nbformat": 4,
 "nbformat_minor": 2
}
